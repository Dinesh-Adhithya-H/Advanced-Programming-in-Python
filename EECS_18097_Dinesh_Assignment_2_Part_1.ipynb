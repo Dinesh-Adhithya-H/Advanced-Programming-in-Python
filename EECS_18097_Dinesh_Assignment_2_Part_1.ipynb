{
  "nbformat": 4,
  "nbformat_minor": 0,
  "metadata": {
    "kernelspec": {
      "display_name": "Python 3",
      "language": "python",
      "name": "python3"
    },
    "language_info": {
      "codemirror_mode": {
        "name": "ipython",
        "version": 3
      },
      "file_extension": ".py",
      "mimetype": "text/x-python",
      "name": "python",
      "nbconvert_exporter": "python",
      "pygments_lexer": "ipython3",
      "version": "3.8.8"
    },
    "colab": {
      "name": "EECS_18097_Assignment_2_Part_1.ipynb",
      "provenance": [],
      "include_colab_link": true
    }
  },
  "cells": [
    {
      "cell_type": "markdown",
      "metadata": {
        "id": "view-in-github",
        "colab_type": "text"
      },
      "source": [
        "<a href=\"https://colab.research.google.com/github/Dinesh-Adhithya-H/Advanced-Programming-in-Python/blob/main/EECS_18097_Assignment_2_Part_1.ipynb\" target=\"_parent\"><img src=\"https://colab.research.google.com/assets/colab-badge.svg\" alt=\"Open In Colab\"/></a>"
      ]
    },
    {
      "cell_type": "markdown",
      "metadata": {
        "id": "W-SD45Mzr4k6"
      },
      "source": [
        "## Assignment 2 Part 1\n",
        "### Due Date: 26 September 2021, Sunday, 11.00 am"
      ]
    },
    {
      "cell_type": "markdown",
      "metadata": {
        "id": "TkzBiO8Pr4lP"
      },
      "source": [
        "### Example: Basic Numpy\n",
        "\n",
        "(1) Create a NumPy array with the integers from your birthdate (year,\n",
        "    month, and day)\n",
        "\n",
        "(2) Retrieve the year.\n",
        "\n",
        "(3) Replace the year with the current year.\n",
        "\n",
        "(4) Create a NumPy array containing every 3rd number from 567 to 890. What is the 8th number in this array?  What is the 15th?"
      ]
    },
    {
      "cell_type": "code",
      "metadata": {
        "id": "g3lURMOir4lV"
      },
      "source": [
        "import numpy as np"
      ],
      "execution_count": 1,
      "outputs": []
    },
    {
      "cell_type": "code",
      "metadata": {
        "id": "CObPCkVlr4lc"
      },
      "source": [
        "# 1\n",
        "a = np.array([1986, 12, 24])"
      ],
      "execution_count": 2,
      "outputs": []
    },
    {
      "cell_type": "code",
      "metadata": {
        "id": "c5mR03HWr4mS",
        "colab": {
          "base_uri": "https://localhost:8080/"
        },
        "outputId": "cbfe863b-2e87-4e24-a61a-0d8051df4dbc"
      },
      "source": [
        "# 2\n",
        "a[0]"
      ],
      "execution_count": 3,
      "outputs": [
        {
          "output_type": "execute_result",
          "data": {
            "text/plain": [
              "1986"
            ]
          },
          "metadata": {},
          "execution_count": 3
        }
      ]
    },
    {
      "cell_type": "code",
      "metadata": {
        "id": "BzJ0jmQ_r4mm"
      },
      "source": [
        "# 3\n",
        "a[0] = 2021"
      ],
      "execution_count": 4,
      "outputs": []
    },
    {
      "cell_type": "code",
      "metadata": {
        "id": "y2SPRf34r4mq",
        "colab": {
          "base_uri": "https://localhost:8080/"
        },
        "outputId": "d8196109-1c17-46cf-e02d-24dd299d5e92"
      },
      "source": [
        "# 4\n",
        "a= np.arange(567, 890, 3)\n",
        "a"
      ],
      "execution_count": 5,
      "outputs": [
        {
          "output_type": "execute_result",
          "data": {
            "text/plain": [
              "array([567, 570, 573, 576, 579, 582, 585, 588, 591, 594, 597, 600, 603,\n",
              "       606, 609, 612, 615, 618, 621, 624, 627, 630, 633, 636, 639, 642,\n",
              "       645, 648, 651, 654, 657, 660, 663, 666, 669, 672, 675, 678, 681,\n",
              "       684, 687, 690, 693, 696, 699, 702, 705, 708, 711, 714, 717, 720,\n",
              "       723, 726, 729, 732, 735, 738, 741, 744, 747, 750, 753, 756, 759,\n",
              "       762, 765, 768, 771, 774, 777, 780, 783, 786, 789, 792, 795, 798,\n",
              "       801, 804, 807, 810, 813, 816, 819, 822, 825, 828, 831, 834, 837,\n",
              "       840, 843, 846, 849, 852, 855, 858, 861, 864, 867, 870, 873, 876,\n",
              "       879, 882, 885, 888])"
            ]
          },
          "metadata": {},
          "execution_count": 5
        }
      ]
    },
    {
      "cell_type": "code",
      "metadata": {
        "id": "jslzKy-or4ms",
        "colab": {
          "base_uri": "https://localhost:8080/"
        },
        "outputId": "dd2bd210-a42f-4421-dd72-22ccd87b3493"
      },
      "source": [
        "a[8]"
      ],
      "execution_count": 6,
      "outputs": [
        {
          "output_type": "execute_result",
          "data": {
            "text/plain": [
              "591"
            ]
          },
          "metadata": {},
          "execution_count": 6
        }
      ]
    },
    {
      "cell_type": "code",
      "metadata": {
        "id": "X2tTPIGlr4mv",
        "colab": {
          "base_uri": "https://localhost:8080/"
        },
        "outputId": "cdefc182-300d-431f-f76f-6086c5c7f10a"
      },
      "source": [
        "a[15]"
      ],
      "execution_count": 7,
      "outputs": [
        {
          "output_type": "execute_result",
          "data": {
            "text/plain": [
              "612"
            ]
          },
          "metadata": {},
          "execution_count": 7
        }
      ]
    },
    {
      "cell_type": "markdown",
      "metadata": {
        "id": "-QpkTt8kr4my"
      },
      "source": [
        "### Exercise 1 Basic Numpy\n",
        "\n",
        "(1) Create an array of 10 random integers, from 0-100.\n",
        "\n",
        "(2) Find the mean and standard deviation of these numbers.  \n",
        "\n",
        "(3) Create another array of 10 random integers, from 0-100.\n",
        "\n",
        "(4) Create a new array whose elements are the average of those from\n",
        "    each of the previous ones.  \n",
        "\n",
        "(5) Create an array of 10 random floats, from 0-100.\n",
        "\n",
        "(6) We would expect the mean to be approaximately 50.  Is it?  What's\n",
        "    the standard deviation?\n",
        "\n",
        "(7) What are the min and max values?"
      ]
    },
    {
      "cell_type": "code",
      "metadata": {
        "id": "UECFKy-4r9Cz"
      },
      "source": [
        "random_array=np.random.randint(0,100,10)"
      ],
      "execution_count": 8,
      "outputs": []
    },
    {
      "cell_type": "code",
      "metadata": {
        "id": "ulA-kOt4r9nV",
        "colab": {
          "base_uri": "https://localhost:8080/"
        },
        "outputId": "3dfa9fb1-e310-41f2-bdab-9445d6985206"
      },
      "source": [
        "random_array"
      ],
      "execution_count": 9,
      "outputs": [
        {
          "output_type": "execute_result",
          "data": {
            "text/plain": [
              "array([78, 11, 86, 39, 54, 73,  8,  5, 44, 35])"
            ]
          },
          "metadata": {},
          "execution_count": 9
        }
      ]
    },
    {
      "cell_type": "code",
      "metadata": {
        "colab": {
          "base_uri": "https://localhost:8080/"
        },
        "id": "CvFtnQiYszhi",
        "outputId": "70b608ee-36e6-4c68-8ecc-24e39c179b0b"
      },
      "source": [
        "np.mean(random_array),np.std(random_array)"
      ],
      "execution_count": 10,
      "outputs": [
        {
          "output_type": "execute_result",
          "data": {
            "text/plain": [
              "(43.3, 28.050133689520983)"
            ]
          },
          "metadata": {},
          "execution_count": 10
        }
      ]
    },
    {
      "cell_type": "code",
      "metadata": {
        "id": "f6OfkNsGtFNS"
      },
      "source": [
        "random_array1=np.random.randint(0,100,10)"
      ],
      "execution_count": 11,
      "outputs": []
    },
    {
      "cell_type": "code",
      "metadata": {
        "id": "HZn3xgKAtMDo"
      },
      "source": [
        "average_array=np.array([np.mean(random_array),np.mean(random_array1)])"
      ],
      "execution_count": 12,
      "outputs": []
    },
    {
      "cell_type": "code",
      "metadata": {
        "id": "261sJ63dtMFY"
      },
      "source": [
        "random_array2=np.random.random(10)*100"
      ],
      "execution_count": 13,
      "outputs": []
    },
    {
      "cell_type": "code",
      "metadata": {
        "colab": {
          "base_uri": "https://localhost:8080/"
        },
        "id": "fpZ-4ENItMJZ",
        "outputId": "7d10a902-f2b1-4199-e000-be95b61dacd5"
      },
      "source": [
        "random_array2"
      ],
      "execution_count": 14,
      "outputs": [
        {
          "output_type": "execute_result",
          "data": {
            "text/plain": [
              "array([33.52073857, 48.4878632 , 66.96522018, 73.64517455,  2.59131189,\n",
              "       24.3247876 , 92.89982222, 87.11520724, 98.05437154, 31.35591156])"
            ]
          },
          "metadata": {},
          "execution_count": 14
        }
      ]
    },
    {
      "cell_type": "code",
      "metadata": {
        "colab": {
          "base_uri": "https://localhost:8080/"
        },
        "id": "hqkLnRtltyBh",
        "outputId": "8f9ae0c5-1eae-4b3d-a7b0-25c509da3502"
      },
      "source": [
        "np.mean(random_array2),np.std(random_array2)"
      ],
      "execution_count": 15,
      "outputs": [
        {
          "output_type": "execute_result",
          "data": {
            "text/plain": [
              "(55.89604085608458, 30.910662991927264)"
            ]
          },
          "metadata": {},
          "execution_count": 15
        }
      ]
    },
    {
      "cell_type": "code",
      "metadata": {
        "colab": {
          "base_uri": "https://localhost:8080/"
        },
        "id": "z6LZaEb5uP0Z",
        "outputId": "2cccfd83-5e94-4652-e6c6-750b01e95ae3"
      },
      "source": [
        "np.max(random_array2),np.min(random_array2)"
      ],
      "execution_count": 16,
      "outputs": [
        {
          "output_type": "execute_result",
          "data": {
            "text/plain": [
              "(98.05437154205545, 2.591311894664805)"
            ]
          },
          "metadata": {},
          "execution_count": 16
        }
      ]
    },
    {
      "cell_type": "markdown",
      "metadata": {
        "id": "phlp-txNr4m0"
      },
      "source": [
        "### Exercise 2 Indexing\n",
        "\n",
        "(1) Create an array of 20 random integers from 0 to 100.\n",
        "\n",
        "(2) Find the largest even number.\n",
        "\n",
        "(3) Find the mean of the odd numbers.\n",
        "\n",
        "(4) Create a NumPy array from the first and last odd numbers.\n",
        "\n",
        "(5) Create an array of 20 floats from 0-1,000.\n",
        "\n",
        "(6) Find the items that are less than the mean.\n",
        "\n",
        "(7) Find the items less than mean-std."
      ]
    },
    {
      "cell_type": "code",
      "metadata": {
        "id": "PZSzO1JAuY1i"
      },
      "source": [
        "random_array3=np.random.randint(0,100,20)"
      ],
      "execution_count": 17,
      "outputs": []
    },
    {
      "cell_type": "code",
      "metadata": {
        "colab": {
          "base_uri": "https://localhost:8080/"
        },
        "id": "_8nFEGMduY3K",
        "outputId": "b4243de0-d391-4041-bade-266b17c1eea8"
      },
      "source": [
        "random_array3"
      ],
      "execution_count": 18,
      "outputs": [
        {
          "output_type": "execute_result",
          "data": {
            "text/plain": [
              "array([12, 45,  3, 48, 86, 80,  1, 43, 54, 81, 61, 32, 51, 98, 49, 27, 50,\n",
              "       21, 43, 73])"
            ]
          },
          "metadata": {},
          "execution_count": 18
        }
      ]
    },
    {
      "cell_type": "code",
      "metadata": {
        "colab": {
          "base_uri": "https://localhost:8080/"
        },
        "id": "lvUuZ_p2uY7d",
        "outputId": "b43786ab-72eb-41f0-f67b-099dc9c1fc3f"
      },
      "source": [
        "filter=random_array3%2==0\n",
        "np.max(random_array3[filter])"
      ],
      "execution_count": 20,
      "outputs": [
        {
          "output_type": "execute_result",
          "data": {
            "text/plain": [
              "98"
            ]
          },
          "metadata": {},
          "execution_count": 20
        }
      ]
    },
    {
      "cell_type": "code",
      "metadata": {
        "id": "e7lLMfObuZD-",
        "colab": {
          "base_uri": "https://localhost:8080/"
        },
        "outputId": "2b94ca83-bf96-4085-aa5b-7644d4193ae0"
      },
      "source": [
        "filter1=random_array3%2!=0\n",
        "np.mean(random_array3[filter1])"
      ],
      "execution_count": 21,
      "outputs": [
        {
          "output_type": "execute_result",
          "data": {
            "text/plain": [
              "41.5"
            ]
          },
          "metadata": {},
          "execution_count": 21
        }
      ]
    },
    {
      "cell_type": "code",
      "metadata": {
        "id": "bZivijMZuZFf",
        "colab": {
          "base_uri": "https://localhost:8080/"
        },
        "outputId": "9e21102b-12d9-414e-98fa-23ade0a70382"
      },
      "source": [
        "np.array([random_array3[filter][0],random_array3[filter][-1]])"
      ],
      "execution_count": 23,
      "outputs": [
        {
          "output_type": "execute_result",
          "data": {
            "text/plain": [
              "array([12, 50])"
            ]
          },
          "metadata": {},
          "execution_count": 23
        }
      ]
    },
    {
      "cell_type": "code",
      "metadata": {
        "id": "WIC7hX9nuZJm"
      },
      "source": [
        "random_array4=np.random.rand(20)*1000"
      ],
      "execution_count": 25,
      "outputs": []
    },
    {
      "cell_type": "code",
      "metadata": {
        "colab": {
          "base_uri": "https://localhost:8080/"
        },
        "id": "Yi1C2h1KvQi-",
        "outputId": "a5543503-a142-45b7-c7c2-32620d294b67"
      },
      "source": [
        "random_array4"
      ],
      "execution_count": 26,
      "outputs": [
        {
          "output_type": "execute_result",
          "data": {
            "text/plain": [
              "array([885.36158308, 138.93505251, 650.18843116, 974.19703221,\n",
              "       151.07393576, 290.62593673, 677.29781621, 612.26543675,\n",
              "        91.72384163, 408.06971   , 797.99783568, 954.32223293,\n",
              "       889.41921456, 772.58350368,  98.82750977, 382.96801078,\n",
              "       828.09337073, 561.3012873 ,  78.22433893, 788.63764672])"
            ]
          },
          "metadata": {},
          "execution_count": 26
        }
      ]
    },
    {
      "cell_type": "code",
      "metadata": {
        "colab": {
          "base_uri": "https://localhost:8080/"
        },
        "id": "HMFxZgoEvV9I",
        "outputId": "f15483cf-10bf-4c5d-cfe5-661e7b81063a"
      },
      "source": [
        "filter2=random_array4<np.mean(random_array4)\n",
        "random_array4[filter2]"
      ],
      "execution_count": 27,
      "outputs": [
        {
          "output_type": "execute_result",
          "data": {
            "text/plain": [
              "array([138.93505251, 151.07393576, 290.62593673,  91.72384163,\n",
              "       408.06971   ,  98.82750977, 382.96801078,  78.22433893])"
            ]
          },
          "metadata": {},
          "execution_count": 27
        }
      ]
    },
    {
      "cell_type": "code",
      "metadata": {
        "colab": {
          "base_uri": "https://localhost:8080/"
        },
        "id": "1iWHEdCtvdl3",
        "outputId": "17723aa4-6693-4353-c3fc-05ad91264edb"
      },
      "source": [
        "filter3=random_array4<np.mean(random_array4)-np.std(random_array4)\n",
        "random_array4[filter3]"
      ],
      "execution_count": 28,
      "outputs": [
        {
          "output_type": "execute_result",
          "data": {
            "text/plain": [
              "array([138.93505251, 151.07393576,  91.72384163,  98.82750977,\n",
              "        78.22433893])"
            ]
          },
          "metadata": {},
          "execution_count": 28
        }
      ]
    },
    {
      "cell_type": "markdown",
      "metadata": {
        "id": "QiGPP265r4m2"
      },
      "source": [
        "### Exercise 3 More indexing\n",
        "\n",
        "(1) Create a NumPy array of 20 random integers from 0-100.\n",
        "\n",
        "(2) What's the smallest even number greater than the mean?\n",
        "\n",
        "(3) Show all numbers either < mean-std OR > mean+std.\n",
        "\n",
        "(4) Show odd numbers < mean and even numbers > mean."
      ]
    },
    {
      "cell_type": "code",
      "metadata": {
        "id": "2KeDFU3BvzUT"
      },
      "source": [
        "random_array5=np.random.randint(0,100,20)\n",
        "filter4=(random_array5>np.mean(random_array5)) & (random_array5%2==0)"
      ],
      "execution_count": 36,
      "outputs": []
    },
    {
      "cell_type": "code",
      "metadata": {
        "colab": {
          "base_uri": "https://localhost:8080/"
        },
        "id": "4-KxucYewJXY",
        "outputId": "44118ab4-6735-4f0d-c284-0d5b6f711d43"
      },
      "source": [
        "np.min(random_array5[filter4])"
      ],
      "execution_count": 37,
      "outputs": [
        {
          "output_type": "execute_result",
          "data": {
            "text/plain": [
              "54"
            ]
          },
          "metadata": {},
          "execution_count": 37
        }
      ]
    },
    {
      "cell_type": "code",
      "metadata": {
        "id": "IrzS-oaSxXKE"
      },
      "source": [
        "filter5=np.logical_or((random_array5>np.mean(random_array5)-np.std(random_array5)) , (random_array5>np.mean(random_array5)+np.std(random_array5)))"
      ],
      "execution_count": 50,
      "outputs": []
    },
    {
      "cell_type": "code",
      "metadata": {
        "colab": {
          "base_uri": "https://localhost:8080/"
        },
        "id": "ev22y36CxXRC",
        "outputId": "a3bb0967-13d7-450a-bf29-b94f0c5b8bb4"
      },
      "source": [
        "random_array5[filter5]"
      ],
      "execution_count": 51,
      "outputs": [
        {
          "output_type": "execute_result",
          "data": {
            "text/plain": [
              "array([73, 78, 54, 91, 63, 77, 36, 32, 21, 84, 89, 15, 99, 16, 32, 58])"
            ]
          },
          "metadata": {},
          "execution_count": 51
        }
      ]
    },
    {
      "cell_type": "code",
      "metadata": {
        "id": "MonpywMVxXUo"
      },
      "source": [
        "filter6=np.logical_or(np.logical_and(random_array5<np.mean(random_array5) , random_array5%2!=0),np.logical_and(random_array5>np.mean(random_array5), random_array5%2==0))"
      ],
      "execution_count": 47,
      "outputs": []
    },
    {
      "cell_type": "code",
      "metadata": {
        "colab": {
          "base_uri": "https://localhost:8080/"
        },
        "id": "7fs-efrl1YAi",
        "outputId": "e6747626-2bc5-4f84-d0d7-8bc2272cdc70"
      },
      "source": [
        "np.mean(random_array5)"
      ],
      "execution_count": 49,
      "outputs": [
        {
          "output_type": "execute_result",
          "data": {
            "text/plain": [
              "46.9"
            ]
          },
          "metadata": {},
          "execution_count": 49
        }
      ]
    },
    {
      "cell_type": "code",
      "metadata": {
        "colab": {
          "base_uri": "https://localhost:8080/"
        },
        "id": "38e8X4yYyX7F",
        "outputId": "64a34a6e-3ad5-4e1f-f98f-9e438042d7a7"
      },
      "source": [
        "random_array5[filter6]"
      ],
      "execution_count": 48,
      "outputs": [
        {
          "output_type": "execute_result",
          "data": {
            "text/plain": [
              "array([ 3, 78, 54, 21, 84,  7, 15,  3, 58,  7])"
            ]
          },
          "metadata": {},
          "execution_count": 48
        }
      ]
    },
    {
      "cell_type": "markdown",
      "metadata": {
        "id": "QJvxLtlEr4m3"
      },
      "source": [
        "### Exercise 4 Assigning via indexes\n",
        "\n",
        "(1) Create a NumPy array of 40 random integers, from 0-100.\n",
        "\n",
        "(2) Find all numbers that are within 1 standard deviation of the mean,\n",
        "    and set them to be equal to the mean.  Has the mean changed?  Has\n",
        "    the std changed?\n",
        "\n",
        "(3) Create another NumPy array of 10 random integers, from 0-100.\n",
        "\n",
        "(4) Set the item at the even indexes to be equal to the items at the odd\n",
        "    indexes.  So index 0 will get the value at index 1, etc.\n"
      ]
    },
    {
      "cell_type": "code",
      "metadata": {
        "id": "cgOlqosG1mp1"
      },
      "source": [
        "random_array6=np.random.randint(0,100,40)"
      ],
      "execution_count": 57,
      "outputs": []
    },
    {
      "cell_type": "code",
      "metadata": {
        "colab": {
          "base_uri": "https://localhost:8080/"
        },
        "id": "Fv4s6Ier3kjY",
        "outputId": "60517956-32a9-4a8c-8821-08d1ccadd0b9"
      },
      "source": [
        "np.mean(random_array7),np.std(random_array7)"
      ],
      "execution_count": 58,
      "outputs": [
        {
          "output_type": "execute_result",
          "data": {
            "text/plain": [
              "(52.0, 23.740261161158273)"
            ]
          },
          "metadata": {},
          "execution_count": 58
        }
      ]
    },
    {
      "cell_type": "code",
      "metadata": {
        "id": "0kkdVKJm2hLC"
      },
      "source": [
        "filter7=np.logical_or(random_array6>np.mean(random_array6)-np.std(random_array6),random_array6<np.mean(random_array6)+np.std(random_array6))\n",
        "random_array6[filter7]=np.mean(random_array6)"
      ],
      "execution_count": 59,
      "outputs": []
    },
    {
      "cell_type": "code",
      "metadata": {
        "colab": {
          "base_uri": "https://localhost:8080/"
        },
        "id": "Ia6veEFc3aBF",
        "outputId": "1b76bf39-e8b4-4896-ee20-3122eb350a78"
      },
      "source": [
        "np.mean(random_array7),np.std(random_array7) # mean hasnt changed but std has changed"
      ],
      "execution_count": 60,
      "outputs": [
        {
          "output_type": "execute_result",
          "data": {
            "text/plain": [
              "(52.0, 23.740261161158273)"
            ]
          },
          "metadata": {},
          "execution_count": 60
        }
      ]
    },
    {
      "cell_type": "code",
      "metadata": {
        "id": "Wsc8jZHa2hN4"
      },
      "source": [
        "random_array7=np.random.randint(0,100,10)"
      ],
      "execution_count": 64,
      "outputs": []
    },
    {
      "cell_type": "code",
      "metadata": {
        "colab": {
          "base_uri": "https://localhost:8080/"
        },
        "id": "lpb5z9WC4dwp",
        "outputId": "f410ca30-2f2b-48d1-9e5c-bea15cf17549"
      },
      "source": [
        "random_array7"
      ],
      "execution_count": 65,
      "outputs": [
        {
          "output_type": "execute_result",
          "data": {
            "text/plain": [
              "array([23, 98,  5, 23, 29, 51, 56, 98,  5, 24])"
            ]
          },
          "metadata": {},
          "execution_count": 65
        }
      ]
    },
    {
      "cell_type": "code",
      "metadata": {
        "id": "tK9q_bd_2hRD"
      },
      "source": [
        "for i in range(0,len(random_array7),2):\n",
        "  random_array7[i]=random_array7[i+1]"
      ],
      "execution_count": 66,
      "outputs": []
    },
    {
      "cell_type": "code",
      "metadata": {
        "colab": {
          "base_uri": "https://localhost:8080/"
        },
        "id": "Qds4aZoX4anN",
        "outputId": "f176dbf1-29cb-42d3-97d1-6e1a7ec797d7"
      },
      "source": [
        "random_array7"
      ],
      "execution_count": 67,
      "outputs": [
        {
          "output_type": "execute_result",
          "data": {
            "text/plain": [
              "array([98, 98, 23, 23, 51, 51, 98, 98, 24, 24])"
            ]
          },
          "metadata": {},
          "execution_count": 67
        }
      ]
    },
    {
      "cell_type": "markdown",
      "metadata": {
        "id": "bPKsRlIOr4m4"
      },
      "source": [
        "### Exercise 5 Data types\n",
        "\n",
        "(1) Create a NumPy array of 10 random integers from 0-100.\n",
        "\n",
        "(2) Calculate the mean, which will be a float.\n",
        "\n",
        "(3) Create an array of type float based on it, and replace the\n",
        "    outliers (i.e., <mean-std or >mean+std) with the mean.\n",
        "\n",
        "(4) Create a NumPy array of 20 random floats from 0-100.\n",
        "\n",
        "(5) Replace those numbers whose int portion is even with the mean.\n",
        "    (So 20.5 would be replaced, but 21.5 would not be.)"
      ]
    },
    {
      "cell_type": "code",
      "metadata": {
        "colab": {
          "base_uri": "https://localhost:8080/"
        },
        "id": "A7QN8DAp4tWP",
        "outputId": "d728021e-3ae3-4e36-b350-2e65cf731466"
      },
      "source": [
        "random_array8=np.random.randint(0,100,10)\n",
        "np.mean(random_array8)"
      ],
      "execution_count": 68,
      "outputs": [
        {
          "output_type": "execute_result",
          "data": {
            "text/plain": [
              "45.3"
            ]
          },
          "metadata": {},
          "execution_count": 68
        }
      ]
    },
    {
      "cell_type": "code",
      "metadata": {
        "id": "3wgGlUSO42SQ"
      },
      "source": [
        "import copy\n",
        "random_array9=copy.deepcopy(random_array8)"
      ],
      "execution_count": 70,
      "outputs": []
    },
    {
      "cell_type": "code",
      "metadata": {
        "id": "FFT7u1GT42bj"
      },
      "source": [
        "random_array9[np.logical_and(random_array8>np.mean(random_array8)+np.std(random_array8),random_array8<np.mean(random_array8)-np.std(random_array8))]=np.mean(random_array8)"
      ],
      "execution_count": 73,
      "outputs": []
    },
    {
      "cell_type": "code",
      "metadata": {
        "colab": {
          "base_uri": "https://localhost:8080/"
        },
        "id": "IfW3Pn-K_0BS",
        "outputId": "178385fa-f102-4eab-adb1-5daba2af5832"
      },
      "source": [
        "random_array.astype(\"int64\")"
      ],
      "execution_count": 76,
      "outputs": [
        {
          "output_type": "execute_result",
          "data": {
            "text/plain": [
              "array([78, 11, 86, 39, 54, 73,  8,  5, 44, 35])"
            ]
          },
          "metadata": {},
          "execution_count": 76
        }
      ]
    },
    {
      "cell_type": "code",
      "metadata": {
        "id": "Uhz0yiN57QpK"
      },
      "source": [
        "random_array10=np.random.random(20)*100\n",
        "random_array10[random_array10.astype(\"int64\")%2==0]=np.mean(random_array10)"
      ],
      "execution_count": 80,
      "outputs": []
    },
    {
      "cell_type": "code",
      "metadata": {
        "colab": {
          "base_uri": "https://localhost:8080/"
        },
        "id": "nbtgslE8Fcjm",
        "outputId": "9a8bf7ae-32a1-4a89-b078-03c2d7f43b26"
      },
      "source": [
        "random_array10"
      ],
      "execution_count": 81,
      "outputs": [
        {
          "output_type": "execute_result",
          "data": {
            "text/plain": [
              "array([47.11845522, 37.5767116 , 51.64951635, 51.64951635,  7.94533875,\n",
              "       51.64951635, 51.64951635, 51.64951635, 53.9116516 , 51.64951635,\n",
              "       95.02666881,  9.65833969,  9.04657691, 91.91926777, 51.64951635,\n",
              "       51.64951635, 67.8437008 , 51.64951635, 51.64951635, 25.68910954])"
            ]
          },
          "metadata": {},
          "execution_count": 81
        }
      ]
    },
    {
      "cell_type": "markdown",
      "metadata": {
        "id": "r06TG0Fdr4m5"
      },
      "source": [
        "### Exercise 6 nan\n",
        "\n",
        "(1) Create a NumPy array of 30 random ints from 0-1000.\n",
        "\n",
        "(2) Find the numbers that are <mean-std or >mean+std, and set them to\n",
        "    be nan\n",
        "\n",
        "(3) Now change those nan values to be the mean of the array's\n",
        "    elements."
      ]
    },
    {
      "cell_type": "code",
      "metadata": {
        "id": "34-0DnP7FfaR"
      },
      "source": [
        "random_array11=np.random.randint(0,1000,30).astype(\"float\")"
      ],
      "execution_count": 87,
      "outputs": []
    },
    {
      "cell_type": "code",
      "metadata": {
        "id": "1noodnqEFykY"
      },
      "source": [
        "random_array11[random_array11>np.mean(random_array11)+np.std(random_array11)]=np.nan"
      ],
      "execution_count": 88,
      "outputs": []
    },
    {
      "cell_type": "markdown",
      "metadata": {
        "id": "DmO_1HIQr4m6"
      },
      "source": [
        "### Exercise 7 Multidimensional NumPy\n",
        "\n",
        "(1) Create a 2-dimensional NumPy array of 45 random integers, from 0-100.\n",
        "\n",
        "(2) Retrieve the elements at row index 2.\n",
        "\n",
        "(3) Retrieve the elements at column index 3.\n",
        "\n",
        "(4) Retrieve the elements at row indexes 1 and 4.\n",
        "\n",
        "(5) Retrieve the elements at column indexes 1 and 4.\n",
        "\n",
        "(6) Get the mean of the even numbers in row index 4.\n",
        "\n",
        "(7) Get the mean of the odd numbers in column index 4."
      ]
    },
    {
      "cell_type": "code",
      "metadata": {
        "id": "PLD1t1RkIt-y"
      },
      "source": [
        "multi_array=np.random.randint(0,100,(5,9))"
      ],
      "execution_count": 91,
      "outputs": []
    },
    {
      "cell_type": "code",
      "metadata": {
        "colab": {
          "base_uri": "https://localhost:8080/"
        },
        "id": "yeAZA1-RIuM7",
        "outputId": "d28f9e91-fb0b-497a-b5ae-42e9c72c1b9b"
      },
      "source": [
        "multi_array[2]"
      ],
      "execution_count": 92,
      "outputs": [
        {
          "output_type": "execute_result",
          "data": {
            "text/plain": [
              "array([91, 13, 27, 48, 13, 76, 87,  2, 44])"
            ]
          },
          "metadata": {},
          "execution_count": 92
        }
      ]
    },
    {
      "cell_type": "code",
      "metadata": {
        "colab": {
          "base_uri": "https://localhost:8080/"
        },
        "id": "sAcztyOkIuP9",
        "outputId": "b54778ae-d452-4367-c864-076e29a2a289"
      },
      "source": [
        "multi_array[:,3]"
      ],
      "execution_count": 94,
      "outputs": [
        {
          "output_type": "execute_result",
          "data": {
            "text/plain": [
              "array([54, 54, 48, 79, 33])"
            ]
          },
          "metadata": {},
          "execution_count": 94
        }
      ]
    },
    {
      "cell_type": "code",
      "metadata": {
        "colab": {
          "base_uri": "https://localhost:8080/"
        },
        "id": "PSgvYaqyJjdv",
        "outputId": "b30f18be-0b29-4088-9b27-f99ee1cefc3c"
      },
      "source": [
        "multi_array[1:5]"
      ],
      "execution_count": 97,
      "outputs": [
        {
          "output_type": "execute_result",
          "data": {
            "text/plain": [
              "array([[73, 10, 40, 54, 25,  3, 82, 93, 30],\n",
              "       [91, 13, 27, 48, 13, 76, 87,  2, 44],\n",
              "       [29, 55, 40, 79, 95, 76, 50, 43, 12],\n",
              "       [62, 40, 94, 33,  5, 57, 30, 57, 24]])"
            ]
          },
          "metadata": {},
          "execution_count": 97
        }
      ]
    },
    {
      "cell_type": "code",
      "metadata": {
        "colab": {
          "base_uri": "https://localhost:8080/"
        },
        "id": "9EC0SJVFIuSv",
        "outputId": "6f6965d8-7b3d-43e8-f21d-45c7e5495691"
      },
      "source": [
        "multi_array[[1,4]]"
      ],
      "execution_count": 95,
      "outputs": [
        {
          "output_type": "execute_result",
          "data": {
            "text/plain": [
              "array([[73, 10, 40, 54, 25,  3, 82, 93, 30],\n",
              "       [62, 40, 94, 33,  5, 57, 30, 57, 24]])"
            ]
          },
          "metadata": {},
          "execution_count": 95
        }
      ]
    },
    {
      "cell_type": "code",
      "metadata": {
        "colab": {
          "base_uri": "https://localhost:8080/"
        },
        "id": "I9RWWJ2xIuV4",
        "outputId": "ff59ae7d-34f1-4d8f-efff-deac683ef2b4"
      },
      "source": [
        "multi_array[:,[1,4]]"
      ],
      "execution_count": 101,
      "outputs": [
        {
          "output_type": "execute_result",
          "data": {
            "text/plain": [
              "array([[33, 92],\n",
              "       [10, 25],\n",
              "       [13, 13],\n",
              "       [55, 95],\n",
              "       [40,  5]])"
            ]
          },
          "metadata": {},
          "execution_count": 101
        }
      ]
    },
    {
      "cell_type": "code",
      "metadata": {
        "colab": {
          "base_uri": "https://localhost:8080/"
        },
        "id": "UceI_ZbrJYss",
        "outputId": "26d3fe3b-6251-4159-a90b-33c29909890d"
      },
      "source": [
        "np.mean(multi_array[:,4][multi_array[:,4]%2!=0])"
      ],
      "execution_count": 106,
      "outputs": [
        {
          "output_type": "execute_result",
          "data": {
            "text/plain": [
              "34.5"
            ]
          },
          "metadata": {},
          "execution_count": 106
        }
      ]
    },
    {
      "cell_type": "code",
      "metadata": {
        "colab": {
          "base_uri": "https://localhost:8080/"
        },
        "id": "fP-giMZhKAZx",
        "outputId": "80230068-cdb3-4918-e190-45d01333840a"
      },
      "source": [
        "np.mean(multi_array[4,:][multi_array[4,:]%2==0])"
      ],
      "execution_count": 107,
      "outputs": [
        {
          "output_type": "execute_result",
          "data": {
            "text/plain": [
              "50.0"
            ]
          },
          "metadata": {},
          "execution_count": 107
        }
      ]
    },
    {
      "cell_type": "markdown",
      "metadata": {
        "id": "Dmp564gAr4m6"
      },
      "source": [
        "### Exercise 8 More Multidimensional\n",
        "\n",
        "(1) Create a 6x6 NumPy array with random integers from 0-100.\n",
        "\n",
        "(2) What is the mean of each column?\n",
        "\n",
        "(3) Replace all even numbers in the array with twice their values. (So\n",
        "    20 will become 40, and 40 will become 80.)\n",
        "\n",
        "(4) Once again, calculate the mean of each column\n",
        "\n",
        "(5) Now transpose the array and calculate the mean of each row.  Is it\n",
        "    the same as you got before?\n",
        "\n",
        "(6) Now sort each of the columns in the transposed array.  What does\n",
        "    it look like now?"
      ]
    },
    {
      "cell_type": "code",
      "metadata": {
        "id": "DgEoudHZr4m7"
      },
      "source": [
        "multi_array2=np.random.randint(0,100,(6,6))"
      ],
      "execution_count": 108,
      "outputs": []
    },
    {
      "cell_type": "code",
      "metadata": {
        "colab": {
          "base_uri": "https://localhost:8080/"
        },
        "id": "HhplRyGVKjw_",
        "outputId": "83d647bc-05d9-466a-f32f-3e5540440416"
      },
      "source": [
        "np.mean(multi_array2,axis=0)"
      ],
      "execution_count": 113,
      "outputs": [
        {
          "output_type": "execute_result",
          "data": {
            "text/plain": [
              "array([57.66666667, 55.66666667, 53.83333333, 68.33333333, 40.33333333,\n",
              "       54.        ])"
            ]
          },
          "metadata": {},
          "execution_count": 113
        }
      ]
    },
    {
      "cell_type": "code",
      "metadata": {
        "id": "91bnQJfvKj0D"
      },
      "source": [
        "for i in range(6):\n",
        "  for j in range(6):\n",
        "    if multi_array2[i][j]%2==0:\n",
        "      multi_array2[i][j]=multi_array2[i][j]*2"
      ],
      "execution_count": 117,
      "outputs": []
    },
    {
      "cell_type": "code",
      "metadata": {
        "colab": {
          "base_uri": "https://localhost:8080/"
        },
        "id": "LhO42mYmKj2v",
        "outputId": "c861bacc-4876-4572-9fd7-daff12656056"
      },
      "source": [
        "np.mean(multi_array2,axis=0)"
      ],
      "execution_count": 118,
      "outputs": [
        {
          "output_type": "execute_result",
          "data": {
            "text/plain": [
              "array([91.        , 74.33333333, 78.5       , 68.33333333, 42.        ,\n",
              "       75.33333333])"
            ]
          },
          "metadata": {},
          "execution_count": 118
        }
      ]
    },
    {
      "cell_type": "code",
      "metadata": {
        "colab": {
          "base_uri": "https://localhost:8080/"
        },
        "id": "6bYixtAfKj6E",
        "outputId": "4cbeb31d-3165-4652-9cc5-e5d21c389af4"
      },
      "source": [
        "np.mean(np.transpose(multi_array2),axis=1)"
      ],
      "execution_count": 120,
      "outputs": [
        {
          "output_type": "execute_result",
          "data": {
            "text/plain": [
              "array([91.        , 74.33333333, 78.5       , 68.33333333, 42.        ,\n",
              "       75.33333333])"
            ]
          },
          "metadata": {},
          "execution_count": 120
        }
      ]
    },
    {
      "cell_type": "code",
      "metadata": {
        "colab": {
          "base_uri": "https://localhost:8080/"
        },
        "id": "-5N1VLG_L7PY",
        "outputId": "d624dd5a-78ff-4e00-a5aa-20b9486e255c"
      },
      "source": [
        "np.sort(np.transpose(multi_array2),axis=0)"
      ],
      "execution_count": 121,
      "outputs": [
        {
          "output_type": "execute_result",
          "data": {
            "text/plain": [
              "array([[ 23,  37,  36,   0,  39,  11],\n",
              "       [ 37,  65,  39,  15,  56,  20],\n",
              "       [ 59,  80,  45,  37,  89,  36],\n",
              "       [ 68,  87,  61,  81,  91,  37],\n",
              "       [ 77,  91,  71,  99,  93, 104],\n",
              "       [180, 120, 188, 156,  97, 152]])"
            ]
          },
          "metadata": {},
          "execution_count": 121
        }
      ]
    },
    {
      "cell_type": "code",
      "metadata": {
        "id": "NRh_8sEkMLkh"
      },
      "source": [
        ""
      ],
      "execution_count": null,
      "outputs": []
    }
  ]
}
