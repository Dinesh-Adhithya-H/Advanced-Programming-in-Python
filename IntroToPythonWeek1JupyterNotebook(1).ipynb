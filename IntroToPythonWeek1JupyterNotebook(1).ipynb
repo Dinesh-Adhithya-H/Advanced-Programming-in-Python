{
  "nbformat": 4,
  "nbformat_minor": 0,
  "metadata": {
    "kernelspec": {
      "display_name": "Python 3",
      "language": "python",
      "name": "python3"
    },
    "language_info": {
      "codemirror_mode": {
        "name": "ipython",
        "version": 3
      },
      "file_extension": ".py",
      "mimetype": "text/x-python",
      "name": "python",
      "nbconvert_exporter": "python",
      "pygments_lexer": "ipython3",
      "version": "3.7.6"
    },
    "colab": {
      "name": "IntroToPythonWeek1JupyterNotebook.ipynb",
      "provenance": []
    }
  },
  "cells": [
    {
      "cell_type": "markdown",
      "metadata": {
        "id": "74L6WU0A-ieY"
      },
      "source": [
        "### DSE 309 Advanced Programming in Python "
      ]
    },
    {
      "cell_type": "markdown",
      "metadata": {
        "id": "UUNSwJYx-ieZ"
      },
      "source": [
        "# Jupyter"
      ]
    },
    {
      "cell_type": "code",
      "metadata": {
        "id": "6P4hz3lp-iea",
        "outputId": "0d3ffdb5-d682-4dce-d210-9844840df4a9",
        "colab": {
          "base_uri": "https://localhost:8080/"
        }
      },
      "source": [
        "print(\"hello world\")"
      ],
      "execution_count": 1,
      "outputs": [
        {
          "output_type": "stream",
          "text": [
            "hello world\n"
          ],
          "name": "stdout"
        }
      ]
    },
    {
      "cell_type": "code",
      "metadata": {
        "id": "goc33Rct-iec",
        "outputId": "7eff29ca-898b-4b5a-ce7e-f8c0406e0cd7",
        "colab": {
          "base_uri": "https://localhost:8080/"
        }
      },
      "source": [
        "# comment here\n",
        "\n",
        "print(\"abcde\")     # first line of code . press <ENTER>\n",
        "print(\"ghijk\")     # anothr line of code , press <ENTER>\n",
        "print(\"wxyz\")      # last line of code, presee Shift + Enter"
      ],
      "execution_count": 2,
      "outputs": [
        {
          "output_type": "stream",
          "text": [
            "abcde\n",
            "ghijk\n",
            "wxyz\n"
          ],
          "name": "stdout"
        }
      ]
    },
    {
      "cell_type": "code",
      "metadata": {
        "id": "XRdvSFdp-iec",
        "outputId": "8c03fcb2-b3e0-43c2-cec1-a2621919480d",
        "colab": {
          "base_uri": "https://localhost:8080/"
        }
      },
      "source": [
        "45"
      ],
      "execution_count": 3,
      "outputs": [
        {
          "output_type": "execute_result",
          "data": {
            "text/plain": [
              "45"
            ]
          },
          "metadata": {
            "tags": []
          },
          "execution_count": 3
        }
      ]
    },
    {
      "cell_type": "code",
      "metadata": {
        "id": "d9_gwZp4-ied",
        "outputId": "e50d2f22-1d5c-4004-98e7-51466cad6107",
        "colab": {
          "base_uri": "https://localhost:8080/"
        }
      },
      "source": [
        "5  + 6"
      ],
      "execution_count": 4,
      "outputs": [
        {
          "output_type": "execute_result",
          "data": {
            "text/plain": [
              "11"
            ]
          },
          "metadata": {
            "tags": []
          },
          "execution_count": 4
        }
      ]
    },
    {
      "cell_type": "code",
      "metadata": {
        "id": "RYbi1BBj-iee"
      },
      "source": [
        "#green color indicates that we are in edit mode\n",
        "#blue color indicates that we are in command mode "
      ],
      "execution_count": 5,
      "outputs": []
    },
    {
      "cell_type": "code",
      "metadata": {
        "id": "gpAzwsWA-iee",
        "outputId": "0a94146a-36de-4e1f-9002-2f83594e0f55",
        "colab": {
          "base_uri": "https://localhost:8080/"
        }
      },
      "source": [
        "1 + 1\n",
        "2 + 2\n",
        "3 + 3"
      ],
      "execution_count": 6,
      "outputs": [
        {
          "output_type": "execute_result",
          "data": {
            "text/plain": [
              "6"
            ]
          },
          "metadata": {
            "tags": []
          },
          "execution_count": 6
        }
      ]
    },
    {
      "cell_type": "code",
      "metadata": {
        "id": "zOKkbMU3-iee",
        "outputId": "45ee869a-787f-4e83-e549-e7b7e8d7ba70",
        "colab": {
          "base_uri": "https://localhost:8080/"
        }
      },
      "source": [
        "4 * 6"
      ],
      "execution_count": 7,
      "outputs": [
        {
          "output_type": "execute_result",
          "data": {
            "text/plain": [
              "24"
            ]
          },
          "metadata": {
            "tags": []
          },
          "execution_count": 7
        }
      ]
    },
    {
      "cell_type": "code",
      "metadata": {
        "id": "vblyzOFK-ief"
      },
      "source": [
        "# comment is nothing but a piece of text to have some hints for the user"
      ],
      "execution_count": null,
      "outputs": []
    },
    {
      "cell_type": "code",
      "metadata": {
        "id": "YSfa3nzQ-ief"
      },
      "source": [
        "#REPL  -- Read, Evaluate, Print, Loop"
      ],
      "execution_count": null,
      "outputs": []
    },
    {
      "cell_type": "code",
      "metadata": {
        "id": "TcV4CTWP-ieh"
      },
      "source": [
        "#green color indicates that we are in edit mode\n",
        "#blue color indicates that we are in command mode "
      ],
      "execution_count": null,
      "outputs": []
    },
    {
      "cell_type": "code",
      "metadata": {
        "id": "DG7iShSH_DJE"
      },
      "source": [
        ""
      ],
      "execution_count": null,
      "outputs": []
    },
    {
      "cell_type": "markdown",
      "metadata": {
        "id": "QyziQqEC-ieh"
      },
      "source": [
        "#### Basic Keyboard Shortcuts\n",
        "- `Shift + Enter` to run cell\n",
        "- `Escape` to leave cell\n",
        "- `a` to add a cell above\n",
        "- `b` to add a cell below\n",
        "- `dd` to delete a cell\n",
        "- `m` to change cell to Markdown (after pressing escape)\n",
        "- `y` to change cell to Code (after pressing escape)\n",
        "- Arrow keys move cells (after pressing escape)\n",
        "- `Enter` to enter cell"
      ]
    },
    {
      "cell_type": "markdown",
      "metadata": {
        "id": "ZhelWsVd-ieh"
      },
      "source": [
        "### Four tips\n",
        "1. Programming is NOT memorization. Google is our friend.\n",
        "2. Don't jump sraight into coding. Sketch first\n",
        "3. Making mistakes is normal. Debugging is not a sign of failure,\n",
        "4. Make sure your code does what it's supposed to do, and that it is readable."
      ]
    },
    {
      "cell_type": "code",
      "metadata": {
        "id": "fcuXB4Om-iek",
        "outputId": "0060c3f3-ec2f-449c-b7f0-250670a598e2",
        "colab": {
          "base_uri": "https://localhost:8080/"
        }
      },
      "source": [
        "print(\"hello world\")"
      ],
      "execution_count": 9,
      "outputs": [
        {
          "output_type": "stream",
          "text": [
            "hello world\n"
          ],
          "name": "stdout"
        }
      ]
    },
    {
      "cell_type": "markdown",
      "metadata": {
        "id": "e_YIm5tM-iel"
      },
      "source": [
        "### Variable Assignment"
      ]
    },
    {
      "cell_type": "code",
      "metadata": {
        "id": "aN87MnEa-ien"
      },
      "source": [
        "x = 1234\n",
        "y = \"abcd\""
      ],
      "execution_count": 10,
      "outputs": []
    },
    {
      "cell_type": "code",
      "metadata": {
        "id": "k0OuU8k4-ien",
        "outputId": "d809a3bb-93da-4702-8c44-dd8d62c773eb",
        "colab": {
          "base_uri": "https://localhost:8080/"
        }
      },
      "source": [
        "x"
      ],
      "execution_count": 11,
      "outputs": [
        {
          "output_type": "execute_result",
          "data": {
            "text/plain": [
              "1234"
            ]
          },
          "metadata": {
            "tags": []
          },
          "execution_count": 11
        }
      ]
    },
    {
      "cell_type": "code",
      "metadata": {
        "id": "B7ebEihx-ien",
        "outputId": "9d3744a2-25f1-4345-b1dc-1e86546c5697",
        "colab": {
          "base_uri": "https://localhost:8080/",
          "height": 36
        }
      },
      "source": [
        "y"
      ],
      "execution_count": 12,
      "outputs": [
        {
          "output_type": "execute_result",
          "data": {
            "application/vnd.google.colaboratory.intrinsic+json": {
              "type": "string"
            },
            "text/plain": [
              "'abcd'"
            ]
          },
          "metadata": {
            "tags": []
          },
          "execution_count": 12
        }
      ]
    },
    {
      "cell_type": "code",
      "metadata": {
        "id": "SYMPnvc0-ieo",
        "outputId": "1897139e-28cb-48c5-c627-9d214e24079e",
        "colab": {
          "base_uri": "https://localhost:8080/"
        }
      },
      "source": [
        "type(x)"
      ],
      "execution_count": 13,
      "outputs": [
        {
          "output_type": "execute_result",
          "data": {
            "text/plain": [
              "int"
            ]
          },
          "metadata": {
            "tags": []
          },
          "execution_count": 13
        }
      ]
    },
    {
      "cell_type": "code",
      "metadata": {
        "id": "okWFa-qg-ieo",
        "outputId": "d5f8ab7d-5f42-4848-ac8b-a69756eea53f",
        "colab": {
          "base_uri": "https://localhost:8080/"
        }
      },
      "source": [
        "type(y)"
      ],
      "execution_count": 14,
      "outputs": [
        {
          "output_type": "execute_result",
          "data": {
            "text/plain": [
              "str"
            ]
          },
          "metadata": {
            "tags": []
          },
          "execution_count": 14
        }
      ]
    },
    {
      "cell_type": "code",
      "metadata": {
        "id": "SfYVWpMI-ieo"
      },
      "source": [
        "x  = \"qwrsy\""
      ],
      "execution_count": 15,
      "outputs": []
    },
    {
      "cell_type": "code",
      "metadata": {
        "id": "8W7KKtFH-ieo"
      },
      "source": [
        "y = 4321"
      ],
      "execution_count": 16,
      "outputs": []
    },
    {
      "cell_type": "code",
      "metadata": {
        "id": "2hpMamQ4-iep",
        "outputId": "8af20a97-9052-4639-d79e-2b4078d10120",
        "colab": {
          "base_uri": "https://localhost:8080/"
        }
      },
      "source": [
        "type(x)"
      ],
      "execution_count": 17,
      "outputs": [
        {
          "output_type": "execute_result",
          "data": {
            "text/plain": [
              "str"
            ]
          },
          "metadata": {
            "tags": []
          },
          "execution_count": 17
        }
      ]
    },
    {
      "cell_type": "code",
      "metadata": {
        "id": "Tmg0sVL5-iep",
        "outputId": "df14ab8c-177e-41bc-991f-ea4b1c7b3eb7",
        "colab": {
          "base_uri": "https://localhost:8080/"
        }
      },
      "source": [
        "type(y)"
      ],
      "execution_count": 18,
      "outputs": [
        {
          "output_type": "execute_result",
          "data": {
            "text/plain": [
              "int"
            ]
          },
          "metadata": {
            "tags": []
          },
          "execution_count": 18
        }
      ]
    },
    {
      "cell_type": "code",
      "metadata": {
        "id": "f1ADhJ2y-ieq"
      },
      "source": [
        "x = 1\n",
        "y = 2"
      ],
      "execution_count": 19,
      "outputs": []
    },
    {
      "cell_type": "code",
      "metadata": {
        "id": "31y9TbBJ-ieq",
        "outputId": "6b975e8b-5b60-47b6-9de0-22e6a9d17cdb",
        "colab": {
          "base_uri": "https://localhost:8080/"
        }
      },
      "source": [
        "x + y"
      ],
      "execution_count": 20,
      "outputs": [
        {
          "output_type": "execute_result",
          "data": {
            "text/plain": [
              "3"
            ]
          },
          "metadata": {
            "tags": []
          },
          "execution_count": 20
        }
      ]
    },
    {
      "cell_type": "code",
      "metadata": {
        "id": "9kn32vX9-ieq"
      },
      "source": [
        "x  =  1\n",
        "y  =  \"2\""
      ],
      "execution_count": 21,
      "outputs": []
    },
    {
      "cell_type": "code",
      "metadata": {
        "id": "UgCbLb1C-ieq",
        "outputId": "ff702959-cc8d-40b9-c912-0daa6e6a1cd9",
        "colab": {
          "base_uri": "https://localhost:8080/"
        }
      },
      "source": [
        "x + int(y)"
      ],
      "execution_count": 23,
      "outputs": [
        {
          "output_type": "execute_result",
          "data": {
            "text/plain": [
              "3"
            ]
          },
          "metadata": {
            "tags": []
          },
          "execution_count": 23
        }
      ]
    },
    {
      "cell_type": "code",
      "metadata": {
        "id": "J8XYqjEy-ieq"
      },
      "source": [
        "x = \"a\"\n",
        "y = \"b\""
      ],
      "execution_count": 24,
      "outputs": []
    },
    {
      "cell_type": "code",
      "metadata": {
        "id": "ipY3ood2-ier",
        "outputId": "37e5fae0-4eca-487d-f5c2-09f3de4bd3ff",
        "colab": {
          "base_uri": "https://localhost:8080/"
        }
      },
      "source": [
        "x + y"
      ],
      "execution_count": 27,
      "outputs": [
        {
          "output_type": "execute_result",
          "data": {
            "text/plain": [
              "10"
            ]
          },
          "metadata": {
            "tags": []
          },
          "execution_count": 27
        }
      ]
    },
    {
      "cell_type": "code",
      "metadata": {
        "id": "l4alunb2-ier",
        "outputId": "716f0241-1275-41c2-c153-836f1c5745cc",
        "colab": {
          "base_uri": "https://localhost:8080/"
        }
      },
      "source": [
        "x = 4\n",
        "y = 6\n",
        "x + y"
      ],
      "execution_count": 28,
      "outputs": [
        {
          "output_type": "execute_result",
          "data": {
            "text/plain": [
              "10"
            ]
          },
          "metadata": {
            "tags": []
          },
          "execution_count": 28
        }
      ]
    },
    {
      "cell_type": "code",
      "metadata": {
        "id": "TgTbL6iG-ier"
      },
      "source": [
        "# Dynamic langauge\n",
        "# Strongly typed language\n",
        "\n",
        "x = 10\n",
        "x = 20\n",
        "x = 30\n"
      ],
      "execution_count": 31,
      "outputs": []
    },
    {
      "cell_type": "code",
      "metadata": {
        "id": "W8TxpW97-ies",
        "outputId": "736cfc31-95c9-4a43-983e-a0745362632e",
        "colab": {
          "base_uri": "https://localhost:8080/"
        }
      },
      "source": [
        "x"
      ],
      "execution_count": 32,
      "outputs": [
        {
          "output_type": "execute_result",
          "data": {
            "text/plain": [
              "30"
            ]
          },
          "metadata": {
            "tags": []
          },
          "execution_count": 32
        }
      ]
    },
    {
      "cell_type": "markdown",
      "metadata": {
        "id": "9ot8UHd9-ies"
      },
      "source": [
        "### User Input"
      ]
    },
    {
      "cell_type": "code",
      "metadata": {
        "id": "vM2w0c4B-ies",
        "outputId": "7c1ab3dd-f6a7-40b0-df6e-afefbf05fdb8",
        "colab": {
          "base_uri": "https://localhost:8080/",
          "height": 36
        }
      },
      "source": [
        "name = 'dinesh'\n",
        "\"Hello, \" + name"
      ],
      "execution_count": 35,
      "outputs": [
        {
          "output_type": "execute_result",
          "data": {
            "application/vnd.google.colaboratory.intrinsic+json": {
              "type": "string"
            },
            "text/plain": [
              "'Hello, dinesh'"
            ]
          },
          "metadata": {
            "tags": []
          },
          "execution_count": 35
        }
      ]
    },
    {
      "cell_type": "code",
      "metadata": {
        "id": "L3kIjUzN-ies",
        "outputId": "7b600e2a-4bde-4819-93fd-f49993cbcfb1",
        "colab": {
          "base_uri": "https://localhost:8080/"
        }
      },
      "source": [
        "name = input(\"Enter your name: \")"
      ],
      "execution_count": 36,
      "outputs": [
        {
          "output_type": "stream",
          "text": [
            "Enter your name: zizou\n"
          ],
          "name": "stdout"
        }
      ]
    },
    {
      "cell_type": "code",
      "metadata": {
        "id": "1qe9v6t7-ies",
        "outputId": "0b7d8d2e-76a0-44d4-cfd1-c083ef5bf6fc",
        "colab": {
          "base_uri": "https://localhost:8080/",
          "height": 36
        }
      },
      "source": [
        "name"
      ],
      "execution_count": 37,
      "outputs": [
        {
          "output_type": "execute_result",
          "data": {
            "application/vnd.google.colaboratory.intrinsic+json": {
              "type": "string"
            },
            "text/plain": [
              "'zizou'"
            ]
          },
          "metadata": {
            "tags": []
          },
          "execution_count": 37
        }
      ]
    },
    {
      "cell_type": "code",
      "metadata": {
        "id": "9qQ-yujW-ies",
        "outputId": "36662fdf-a35a-4feb-ae68-48d02ca0624e",
        "colab": {
          "base_uri": "https://localhost:8080/",
          "height": 36
        }
      },
      "source": [
        "\"Hello, \" + name"
      ],
      "execution_count": 38,
      "outputs": [
        {
          "output_type": "execute_result",
          "data": {
            "application/vnd.google.colaboratory.intrinsic+json": {
              "type": "string"
            },
            "text/plain": [
              "'Hello, zizou'"
            ]
          },
          "metadata": {
            "tags": []
          },
          "execution_count": 38
        }
      ]
    },
    {
      "cell_type": "code",
      "metadata": {
        "id": "-aa3EjTB-ies",
        "outputId": "b41ef369-80c8-4743-c014-c7565fc08603",
        "colab": {
          "base_uri": "https://localhost:8080/"
        }
      },
      "source": [
        "print(\"Hello, \" + name)"
      ],
      "execution_count": 39,
      "outputs": [
        {
          "output_type": "stream",
          "text": [
            "Hello, zizou\n"
          ],
          "name": "stdout"
        }
      ]
    },
    {
      "cell_type": "code",
      "metadata": {
        "id": "fufKGvKn-ies",
        "outputId": "35ed9131-6f2f-4237-a74e-05e6ea3bc3e6",
        "colab": {
          "base_uri": "https://localhost:8080/"
        }
      },
      "source": [
        "age = int(input(\"Enter your age: \"))"
      ],
      "execution_count": 44,
      "outputs": [
        {
          "output_type": "stream",
          "text": [
            "Enter your age: 99\n"
          ],
          "name": "stdout"
        }
      ]
    },
    {
      "cell_type": "code",
      "metadata": {
        "id": "qmBcHP2i-ieu",
        "outputId": "d163e469-1024-49b7-abe5-c723bb88fcec",
        "colab": {
          "base_uri": "https://localhost:8080/"
        }
      },
      "source": [
        "print(\"your age is \" , age , \"?\")"
      ],
      "execution_count": 46,
      "outputs": [
        {
          "output_type": "stream",
          "text": [
            "your age is  99 ?\n"
          ],
          "name": "stdout"
        }
      ]
    },
    {
      "cell_type": "code",
      "metadata": {
        "id": "_6IqZ3yl-ieu",
        "outputId": "76c9a750-3413-4e55-9924-c9f9b9284fbf",
        "colab": {
          "base_uri": "https://localhost:8080/"
        }
      },
      "source": [
        "age"
      ],
      "execution_count": 48,
      "outputs": [
        {
          "output_type": "execute_result",
          "data": {
            "text/plain": [
              "99"
            ]
          },
          "metadata": {
            "tags": []
          },
          "execution_count": 48
        }
      ]
    },
    {
      "cell_type": "code",
      "metadata": {
        "id": "1GVuPfsn-ieu"
      },
      "source": [
        "# this is a comment\n",
        "x = 200 # this is also a comment"
      ],
      "execution_count": null,
      "outputs": []
    },
    {
      "cell_type": "code",
      "metadata": {
        "id": "EiCkeKoL-ieu"
      },
      "source": [
        "'''\n",
        "x = 10\n",
        "x = 12\n",
        "x = 45\n",
        "'''"
      ],
      "execution_count": null,
      "outputs": []
    },
    {
      "cell_type": "code",
      "metadata": {
        "id": "adEbk7eT-iev"
      },
      "source": [
        "x"
      ],
      "execution_count": null,
      "outputs": []
    },
    {
      "cell_type": "markdown",
      "metadata": {
        "id": "I4ixQ0ql-iev"
      },
      "source": [
        "## Comments"
      ]
    },
    {
      "cell_type": "code",
      "metadata": {
        "id": "PpPQEIkB-iev"
      },
      "source": [
        "# this is your comment\n",
        "\n",
        "x = 100  # this is also a comment"
      ],
      "execution_count": 49,
      "outputs": []
    },
    {
      "cell_type": "code",
      "metadata": {
        "id": "yzGOi_3Q-iev"
      },
      "source": [
        "x = 10\n",
        "y = 20\n",
        "z = 30"
      ],
      "execution_count": 50,
      "outputs": []
    },
    {
      "cell_type": "code",
      "metadata": {
        "id": "fUHufOw5-iev",
        "outputId": "0cb743e8-e51c-4b08-cb8a-c40119ec0a58",
        "colab": {
          "base_uri": "https://localhost:8080/"
        }
      },
      "source": [
        "# this is a babies site, we enter the age in months\n",
        "# we are entering the age of a person in strings\n",
        "age = input(\"Enter your age: \")"
      ],
      "execution_count": 51,
      "outputs": [
        {
          "output_type": "stream",
          "text": [
            "Enter your age: 00\n"
          ],
          "name": "stdout"
        }
      ]
    },
    {
      "cell_type": "markdown",
      "metadata": {
        "id": "RrA8E7yF-iew"
      },
      "source": [
        "### Conditionals and Whitespace"
      ]
    },
    {
      "cell_type": "code",
      "metadata": {
        "id": "7m9Xvr1O-iew",
        "outputId": "5cb944e2-33f9-40a5-e658-d3d859f40cda",
        "colab": {
          "base_uri": "https://localhost:8080/"
        }
      },
      "source": [
        "name = input(\"Enter your name: \")\n",
        "if name == \"cjenfj\":\n",
        "    print(\"Hello, Master\")\n",
        "    print(\"So nice to see you again\")\n",
        "else:\n",
        "    print(\"Hello \" + name)"
      ],
      "execution_count": 53,
      "outputs": [
        {
          "output_type": "stream",
          "text": [
            "Enter your name: kfnwkn\n",
            "Hello kfnwkn\n"
          ],
          "name": "stdout"
        }
      ]
    },
    {
      "cell_type": "markdown",
      "metadata": {
        "id": "fw4zIPJe-iew"
      },
      "source": [
        "### More Choices "
      ]
    },
    {
      "cell_type": "code",
      "metadata": {
        "id": "FAQzFxJH-iew",
        "outputId": "39ecbbf3-095c-4c2f-eb39-77e45ede245d",
        "colab": {
          "base_uri": "https://localhost:8080/"
        }
      },
      "source": [
        "letter = input(\"Enter a letter: \")\n",
        "if letter == 'a':\n",
        "    print(\"That's the first letter!\")\n",
        "elif letter == 'b':\n",
        "    print(\"That's the second letter!\")\n",
        "else:\n",
        "    print(\"I don't know that letter.\")"
      ],
      "execution_count": 54,
      "outputs": [
        {
          "output_type": "stream",
          "text": [
            "Enter a letter: abc\n",
            "I don't know that letter.\n"
          ],
          "name": "stdout"
        }
      ]
    },
    {
      "cell_type": "code",
      "metadata": {
        "id": "Xdw7tfPL-iex",
        "outputId": "b859f34c-624a-4e07-8fa8-5909733a6165",
        "colab": {
          "base_uri": "https://localhost:8080/"
        }
      },
      "source": [
        "x  = 5\n",
        "if x < 10:\n",
        "    print(\"x is less than 10\")\n",
        "elif x < 8:\n",
        "    print(\"x is less than 8\")\n",
        "else:\n",
        "    print(\"i dont know\")"
      ],
      "execution_count": 55,
      "outputs": [
        {
          "output_type": "stream",
          "text": [
            "x is less than 10\n"
          ],
          "name": "stdout"
        }
      ]
    },
    {
      "cell_type": "code",
      "metadata": {
        "id": "6wrI7SvZ-iex",
        "outputId": "d115e678-d296-4a11-f3eb-64d19b718072",
        "colab": {
          "base_uri": "https://localhost:8080/"
        }
      },
      "source": [
        "letter = input(\"Enter a letter: \")\n",
        "if (letter == 'a' or \n",
        "    letter == 'b' or \n",
        "    letter == 'c'):\n",
        "    print(\"That's one of the first three letters!\")\n",
        "elif letter == 'd':\n",
        "    print(\"That's the fourth letter!\")\n",
        "else:\n",
        "    print(\"I don't know that letter.\")"
      ],
      "execution_count": 56,
      "outputs": [
        {
          "output_type": "stream",
          "text": [
            "Enter a letter: c\n",
            "That's one of the first three letters!\n"
          ],
          "name": "stdout"
        }
      ]
    },
    {
      "cell_type": "code",
      "metadata": {
        "id": "GrD9SKG8-iey",
        "outputId": "296073e3-791d-4596-a1f2-dd357f2d1ab6",
        "colab": {
          "base_uri": "https://localhost:8080/"
        }
      },
      "source": [
        "marks = 74\n",
        "if (marks < 80 and\n",
        "    marks > 60):\n",
        "    print(\"you got A grade\")"
      ],
      "execution_count": 57,
      "outputs": [
        {
          "output_type": "stream",
          "text": [
            "you got A grade\n"
          ],
          "name": "stdout"
        }
      ]
    },
    {
      "cell_type": "code",
      "metadata": {
        "id": "efGKfAMB-iey",
        "outputId": "c950974f-0781-4f25-f8ad-81962768b569",
        "colab": {
          "base_uri": "https://localhost:8080/"
        }
      },
      "source": [
        "x = 10\n",
        "if x != 20:\n",
        "    print(\"it is not twenty\")"
      ],
      "execution_count": 58,
      "outputs": [
        {
          "output_type": "stream",
          "text": [
            "it is not twenty\n"
          ],
          "name": "stdout"
        }
      ]
    },
    {
      "cell_type": "code",
      "metadata": {
        "id": "4se-qNRB-iey",
        "outputId": "8e9c8efd-fae6-4a54-9c71-f366434c3e5b",
        "colab": {
          "base_uri": "https://localhost:8080/"
        }
      },
      "source": [
        "if not x  == 20:\n",
        "    print(\"it is not twenty\")"
      ],
      "execution_count": 59,
      "outputs": [
        {
          "output_type": "stream",
          "text": [
            "it is not twenty\n"
          ],
          "name": "stdout"
        }
      ]
    },
    {
      "cell_type": "markdown",
      "metadata": {
        "id": "CypNnAHG-iez"
      },
      "source": [
        "## Numbers\n",
        "### Integers"
      ]
    },
    {
      "cell_type": "code",
      "metadata": {
        "id": "lknjKMya-iez"
      },
      "source": [
        "x = 100"
      ],
      "execution_count": 60,
      "outputs": []
    },
    {
      "cell_type": "code",
      "metadata": {
        "id": "u0QlbVm5-ie0",
        "outputId": "d5e89c4c-3a39-4ba6-8324-6dd246406056",
        "colab": {
          "base_uri": "https://localhost:8080/"
        }
      },
      "source": [
        "type(x)"
      ],
      "execution_count": 61,
      "outputs": [
        {
          "output_type": "execute_result",
          "data": {
            "text/plain": [
              "int"
            ]
          },
          "metadata": {
            "tags": []
          },
          "execution_count": 61
        }
      ]
    },
    {
      "cell_type": "code",
      "metadata": {
        "id": "2cYRI21m-ie0"
      },
      "source": [
        "x = 10\n",
        "y = 3"
      ],
      "execution_count": 62,
      "outputs": []
    },
    {
      "cell_type": "code",
      "metadata": {
        "id": "ZuKLkvq7-ie1",
        "outputId": "dada79c9-dcf7-4719-f3f7-ec5c0b312bbd",
        "colab": {
          "base_uri": "https://localhost:8080/"
        }
      },
      "source": [
        "x + y"
      ],
      "execution_count": 63,
      "outputs": [
        {
          "output_type": "execute_result",
          "data": {
            "text/plain": [
              "13"
            ]
          },
          "metadata": {
            "tags": []
          },
          "execution_count": 63
        }
      ]
    },
    {
      "cell_type": "code",
      "metadata": {
        "id": "EhM4or4F-ie1",
        "outputId": "c915d262-c35e-4503-a104-f4b68ec2861a",
        "colab": {
          "base_uri": "https://localhost:8080/"
        }
      },
      "source": [
        "x - y"
      ],
      "execution_count": 64,
      "outputs": [
        {
          "output_type": "execute_result",
          "data": {
            "text/plain": [
              "7"
            ]
          },
          "metadata": {
            "tags": []
          },
          "execution_count": 64
        }
      ]
    },
    {
      "cell_type": "code",
      "metadata": {
        "id": "XiX7f5Ej-ie1",
        "outputId": "7ce1bb81-4909-4c43-d062-f1bac7ba3fd2",
        "colab": {
          "base_uri": "https://localhost:8080/"
        }
      },
      "source": [
        "x * y"
      ],
      "execution_count": 65,
      "outputs": [
        {
          "output_type": "execute_result",
          "data": {
            "text/plain": [
              "30"
            ]
          },
          "metadata": {
            "tags": []
          },
          "execution_count": 65
        }
      ]
    },
    {
      "cell_type": "code",
      "metadata": {
        "id": "pFut2LvO-ie1",
        "outputId": "d761a4e8-2406-484c-9a75-2b36bd7af18e",
        "colab": {
          "base_uri": "https://localhost:8080/"
        }
      },
      "source": [
        "x / y"
      ],
      "execution_count": 66,
      "outputs": [
        {
          "output_type": "execute_result",
          "data": {
            "text/plain": [
              "3.3333333333333335"
            ]
          },
          "metadata": {
            "tags": []
          },
          "execution_count": 66
        }
      ]
    },
    {
      "cell_type": "code",
      "metadata": {
        "id": "BAPUFwU3-ie1",
        "outputId": "cd26539e-7476-4a42-99d5-8fcc2f94af50",
        "colab": {
          "base_uri": "https://localhost:8080/"
        }
      },
      "source": [
        "x / x"
      ],
      "execution_count": 67,
      "outputs": [
        {
          "output_type": "execute_result",
          "data": {
            "text/plain": [
              "1.0"
            ]
          },
          "metadata": {
            "tags": []
          },
          "execution_count": 67
        }
      ]
    },
    {
      "cell_type": "code",
      "metadata": {
        "id": "ee4YEZOL-ie2",
        "outputId": "fbc6c56d-491f-4370-94a9-bcd4d66a7d76",
        "colab": {
          "base_uri": "https://localhost:8080/"
        }
      },
      "source": [
        "x // y"
      ],
      "execution_count": 68,
      "outputs": [
        {
          "output_type": "execute_result",
          "data": {
            "text/plain": [
              "3"
            ]
          },
          "metadata": {
            "tags": []
          },
          "execution_count": 68
        }
      ]
    },
    {
      "cell_type": "code",
      "metadata": {
        "id": "ridxfAhd-ie2",
        "outputId": "a7351318-f9c5-46d6-a05b-6148b188a637",
        "colab": {
          "base_uri": "https://localhost:8080/"
        }
      },
      "source": [
        "x // x "
      ],
      "execution_count": 69,
      "outputs": [
        {
          "output_type": "execute_result",
          "data": {
            "text/plain": [
              "1"
            ]
          },
          "metadata": {
            "tags": []
          },
          "execution_count": 69
        }
      ]
    },
    {
      "cell_type": "code",
      "metadata": {
        "id": "MTL39QJ8-ie2",
        "outputId": "20ed3857-c62f-4b76-83ee-d7cd1c511560",
        "colab": {
          "base_uri": "https://localhost:8080/"
        }
      },
      "source": [
        "x ** y   # x to the y poer"
      ],
      "execution_count": 70,
      "outputs": [
        {
          "output_type": "execute_result",
          "data": {
            "text/plain": [
              "1000"
            ]
          },
          "metadata": {
            "tags": []
          },
          "execution_count": 70
        }
      ]
    },
    {
      "cell_type": "code",
      "metadata": {
        "id": "HgX3FkBT-ie2",
        "outputId": "a6578706-2d48-4f25-bd66-10de96e2430a",
        "colab": {
          "base_uri": "https://localhost:8080/"
        }
      },
      "source": [
        "x % y #modulus -- remainder after taking x/y"
      ],
      "execution_count": 71,
      "outputs": [
        {
          "output_type": "execute_result",
          "data": {
            "text/plain": [
              "1"
            ]
          },
          "metadata": {
            "tags": []
          },
          "execution_count": 71
        }
      ]
    },
    {
      "cell_type": "code",
      "metadata": {
        "id": "ipIz9Y0g-ie2",
        "outputId": "be0488cd-a575-4363-9d68-dc5b74773f26",
        "colab": {
          "base_uri": "https://localhost:8080/"
        }
      },
      "source": [
        "x"
      ],
      "execution_count": 72,
      "outputs": [
        {
          "output_type": "execute_result",
          "data": {
            "text/plain": [
              "10"
            ]
          },
          "metadata": {
            "tags": []
          },
          "execution_count": 72
        }
      ]
    },
    {
      "cell_type": "code",
      "metadata": {
        "id": "M_mNQGYS-ie2",
        "outputId": "28d25413-f89b-40b6-e627-8a94f61abac4",
        "colab": {
          "base_uri": "https://localhost:8080/"
        }
      },
      "source": [
        "x = x + 1\n",
        "x"
      ],
      "execution_count": 73,
      "outputs": [
        {
          "output_type": "execute_result",
          "data": {
            "text/plain": [
              "11"
            ]
          },
          "metadata": {
            "tags": []
          },
          "execution_count": 73
        }
      ]
    },
    {
      "cell_type": "code",
      "metadata": {
        "id": "XW6ue2bP-ie2",
        "outputId": "bbc4e14b-4e80-4606-8f92-1f59e303f6e4",
        "colab": {
          "base_uri": "https://localhost:8080/"
        }
      },
      "source": [
        "x += 1\n",
        "x"
      ],
      "execution_count": 74,
      "outputs": [
        {
          "output_type": "execute_result",
          "data": {
            "text/plain": [
              "12"
            ]
          },
          "metadata": {
            "tags": []
          },
          "execution_count": 74
        }
      ]
    },
    {
      "cell_type": "code",
      "metadata": {
        "id": "pFcLYrZi-ie3",
        "outputId": "6aa85325-c8ec-4564-dcd3-3dbe3a4870a7",
        "colab": {
          "base_uri": "https://localhost:8080/"
        }
      },
      "source": [
        "x +=10\n",
        "x"
      ],
      "execution_count": 75,
      "outputs": [
        {
          "output_type": "execute_result",
          "data": {
            "text/plain": [
              "22"
            ]
          },
          "metadata": {
            "tags": []
          },
          "execution_count": 75
        }
      ]
    },
    {
      "cell_type": "code",
      "metadata": {
        "id": "MdDL7SWe-ie3",
        "outputId": "2184db7d-ad0a-4dc2-c1f9-76ab47684c7c",
        "colab": {
          "base_uri": "https://localhost:8080/"
        }
      },
      "source": [
        "x *= 3\n",
        "x"
      ],
      "execution_count": 76,
      "outputs": [
        {
          "output_type": "execute_result",
          "data": {
            "text/plain": [
              "66"
            ]
          },
          "metadata": {
            "tags": []
          },
          "execution_count": 76
        }
      ]
    },
    {
      "cell_type": "code",
      "metadata": {
        "id": "JEcvcyzV-ie4",
        "outputId": "bb0e47da-9f29-4730-94cb-6f7401f5e3a4",
        "colab": {
          "base_uri": "https://localhost:8080/"
        }
      },
      "source": [
        "x /= 3\n",
        "x"
      ],
      "execution_count": 77,
      "outputs": [
        {
          "output_type": "execute_result",
          "data": {
            "text/plain": [
              "22.0"
            ]
          },
          "metadata": {
            "tags": []
          },
          "execution_count": 77
        }
      ]
    },
    {
      "cell_type": "code",
      "metadata": {
        "id": "Ri0Pclw3-ie4",
        "outputId": "34a03c67-e2a8-4c2a-96cb-88eaaa2b830f",
        "colab": {
          "base_uri": "https://localhost:8080/"
        }
      },
      "source": [
        "x **= 8\n",
        "x"
      ],
      "execution_count": 78,
      "outputs": [
        {
          "output_type": "execute_result",
          "data": {
            "text/plain": [
              "54875873536.0"
            ]
          },
          "metadata": {
            "tags": []
          },
          "execution_count": 78
        }
      ]
    },
    {
      "cell_type": "code",
      "metadata": {
        "id": "uBD_BBoM-ie4",
        "outputId": "f57ad31a-8544-430a-a000-c3220e590366",
        "colab": {
          "base_uri": "https://localhost:8080/"
        }
      },
      "source": [
        "x = 12\n",
        "y = 10\n",
        "\n",
        "x < y"
      ],
      "execution_count": 79,
      "outputs": [
        {
          "output_type": "execute_result",
          "data": {
            "text/plain": [
              "False"
            ]
          },
          "metadata": {
            "tags": []
          },
          "execution_count": 79
        }
      ]
    },
    {
      "cell_type": "code",
      "metadata": {
        "id": "3mQlncO2-ie4",
        "outputId": "7b2fc123-f598-45a9-f050-95e4282d6139",
        "colab": {
          "base_uri": "https://localhost:8080/"
        }
      },
      "source": [
        "x > y"
      ],
      "execution_count": 80,
      "outputs": [
        {
          "output_type": "execute_result",
          "data": {
            "text/plain": [
              "True"
            ]
          },
          "metadata": {
            "tags": []
          },
          "execution_count": 80
        }
      ]
    },
    {
      "cell_type": "code",
      "metadata": {
        "id": "3018J0-_-ie4",
        "outputId": "4ea36d13-caaa-4686-9514-0fe64c7295be",
        "colab": {
          "base_uri": "https://localhost:8080/"
        }
      },
      "source": [
        "x <= y"
      ],
      "execution_count": 81,
      "outputs": [
        {
          "output_type": "execute_result",
          "data": {
            "text/plain": [
              "False"
            ]
          },
          "metadata": {
            "tags": []
          },
          "execution_count": 81
        }
      ]
    },
    {
      "cell_type": "code",
      "metadata": {
        "id": "sEWsgIq_-ie5",
        "outputId": "ce2f6944-2283-427b-a5b1-9664092d3056",
        "colab": {
          "base_uri": "https://localhost:8080/"
        }
      },
      "source": [
        "x >= y"
      ],
      "execution_count": 82,
      "outputs": [
        {
          "output_type": "execute_result",
          "data": {
            "text/plain": [
              "True"
            ]
          },
          "metadata": {
            "tags": []
          },
          "execution_count": 82
        }
      ]
    },
    {
      "cell_type": "code",
      "metadata": {
        "id": "53OUzrjK-ie5",
        "outputId": "c5d28428-f569-449d-be38-772aba604ba7",
        "colab": {
          "base_uri": "https://localhost:8080/"
        }
      },
      "source": [
        "x != y"
      ],
      "execution_count": 83,
      "outputs": [
        {
          "output_type": "execute_result",
          "data": {
            "text/plain": [
              "True"
            ]
          },
          "metadata": {
            "tags": []
          },
          "execution_count": 83
        }
      ]
    },
    {
      "cell_type": "code",
      "metadata": {
        "id": "uIiHIxCe-ie5",
        "outputId": "22f99439-71d6-4f8e-c057-3915d87427ca",
        "colab": {
          "base_uri": "https://localhost:8080/"
        }
      },
      "source": [
        "x = 10\n",
        "y = x\n",
        "\n",
        "x = 20\n",
        "y"
      ],
      "execution_count": 84,
      "outputs": [
        {
          "output_type": "execute_result",
          "data": {
            "text/plain": [
              "10"
            ]
          },
          "metadata": {
            "tags": []
          },
          "execution_count": 84
        }
      ]
    },
    {
      "cell_type": "code",
      "metadata": {
        "id": "aR4O1zKr-ie5",
        "outputId": "cedd9af8-6124-4afa-fe88-657e3f534fcb",
        "colab": {
          "base_uri": "https://localhost:8080/"
        }
      },
      "source": [
        "x = 1\n",
        "y = 2\n",
        "\n",
        "x + y"
      ],
      "execution_count": 85,
      "outputs": [
        {
          "output_type": "execute_result",
          "data": {
            "text/plain": [
              "3"
            ]
          },
          "metadata": {
            "tags": []
          },
          "execution_count": 85
        }
      ]
    },
    {
      "cell_type": "code",
      "metadata": {
        "id": "8mZb3GNC-ie5"
      },
      "source": [
        "x = 1\n",
        "y = '2'\n"
      ],
      "execution_count": 89,
      "outputs": []
    },
    {
      "cell_type": "code",
      "metadata": {
        "id": "EoR0oVW2-ie6"
      },
      "source": [
        "# if I want to turn y into an int, I say int(y)  -- that doesn't change y, \n",
        "# but it does return a new int, based on y\n"
      ],
      "execution_count": 128,
      "outputs": []
    },
    {
      "cell_type": "code",
      "metadata": {
        "id": "_KiC1aDv-ie6",
        "outputId": "caa0a497-2eef-49da-bfef-c7c1d8d936fb",
        "colab": {
          "base_uri": "https://localhost:8080/"
        }
      },
      "source": [
        "int(y)"
      ],
      "execution_count": 90,
      "outputs": [
        {
          "output_type": "execute_result",
          "data": {
            "text/plain": [
              "2"
            ]
          },
          "metadata": {
            "tags": []
          },
          "execution_count": 90
        }
      ]
    },
    {
      "cell_type": "code",
      "metadata": {
        "id": "zX-8Bfc--ie6",
        "outputId": "c861f663-eb01-42ca-eca6-b2aeb871a9f4",
        "colab": {
          "base_uri": "https://localhost:8080/",
          "height": 36
        }
      },
      "source": [
        "y"
      ],
      "execution_count": 91,
      "outputs": [
        {
          "output_type": "execute_result",
          "data": {
            "application/vnd.google.colaboratory.intrinsic+json": {
              "type": "string"
            },
            "text/plain": [
              "'2'"
            ]
          },
          "metadata": {
            "tags": []
          },
          "execution_count": 91
        }
      ]
    },
    {
      "cell_type": "code",
      "metadata": {
        "id": "q6ecmuVq-ie6"
      },
      "source": [
        "y = int(y)"
      ],
      "execution_count": 92,
      "outputs": []
    },
    {
      "cell_type": "code",
      "metadata": {
        "id": "zNdbOvV3-ie6",
        "outputId": "effe5e79-1a44-449f-f843-28ff0e41ed38",
        "colab": {
          "base_uri": "https://localhost:8080/"
        }
      },
      "source": [
        "y"
      ],
      "execution_count": 93,
      "outputs": [
        {
          "output_type": "execute_result",
          "data": {
            "text/plain": [
              "2"
            ]
          },
          "metadata": {
            "tags": []
          },
          "execution_count": 93
        }
      ]
    },
    {
      "cell_type": "code",
      "metadata": {
        "id": "p-hZj0wg-ie7"
      },
      "source": [
        "y = '2'"
      ],
      "execution_count": 94,
      "outputs": []
    },
    {
      "cell_type": "code",
      "metadata": {
        "id": "0yd__iO0-ie7",
        "outputId": "cb10feac-ee14-4254-c242-83054fbab8f2",
        "colab": {
          "base_uri": "https://localhost:8080/"
        }
      },
      "source": [
        "x + int(y)"
      ],
      "execution_count": 95,
      "outputs": [
        {
          "output_type": "execute_result",
          "data": {
            "text/plain": [
              "3"
            ]
          },
          "metadata": {
            "tags": []
          },
          "execution_count": 95
        }
      ]
    },
    {
      "cell_type": "code",
      "metadata": {
        "id": "NqrxAgfY-ie7"
      },
      "source": [
        "y = 1.5"
      ],
      "execution_count": 96,
      "outputs": []
    },
    {
      "cell_type": "code",
      "metadata": {
        "id": "JF9xUdXS-ie7",
        "outputId": "747057e5-b211-4cc5-fb12-5dc2b038c365",
        "colab": {
          "base_uri": "https://localhost:8080/"
        }
      },
      "source": [
        "y"
      ],
      "execution_count": 97,
      "outputs": [
        {
          "output_type": "execute_result",
          "data": {
            "text/plain": [
              "1.5"
            ]
          },
          "metadata": {
            "tags": []
          },
          "execution_count": 97
        }
      ]
    },
    {
      "cell_type": "code",
      "metadata": {
        "id": "V9FrA26S-ie7",
        "outputId": "10d50f60-2356-4624-950e-98eb8fbb60bb",
        "colab": {
          "base_uri": "https://localhost:8080/"
        }
      },
      "source": [
        "int(y)"
      ],
      "execution_count": 98,
      "outputs": [
        {
          "output_type": "execute_result",
          "data": {
            "text/plain": [
              "1"
            ]
          },
          "metadata": {
            "tags": []
          },
          "execution_count": 98
        }
      ]
    },
    {
      "cell_type": "markdown",
      "metadata": {
        "id": "ZbGqI4wn-ie8"
      },
      "source": [
        "### Float"
      ]
    },
    {
      "cell_type": "code",
      "metadata": {
        "id": "MDUz__0A-ie9",
        "outputId": "97cdc6bc-7388-458d-a132-262232e9d176",
        "colab": {
          "base_uri": "https://localhost:8080/"
        }
      },
      "source": [
        "10 / 3"
      ],
      "execution_count": 99,
      "outputs": [
        {
          "output_type": "execute_result",
          "data": {
            "text/plain": [
              "3.3333333333333335"
            ]
          },
          "metadata": {
            "tags": []
          },
          "execution_count": 99
        }
      ]
    },
    {
      "cell_type": "code",
      "metadata": {
        "id": "2sIZQ-0o-ie9"
      },
      "source": [
        "x = 10\n",
        "y =  3\n",
        "\n",
        "z = x / y"
      ],
      "execution_count": 100,
      "outputs": []
    },
    {
      "cell_type": "code",
      "metadata": {
        "id": "DRKkBicH-ie9",
        "outputId": "1ef98829-e06e-43c2-98d5-84694b0d4617",
        "colab": {
          "base_uri": "https://localhost:8080/"
        }
      },
      "source": [
        "type(z)"
      ],
      "execution_count": 101,
      "outputs": [
        {
          "output_type": "execute_result",
          "data": {
            "text/plain": [
              "float"
            ]
          },
          "metadata": {
            "tags": []
          },
          "execution_count": 101
        }
      ]
    },
    {
      "cell_type": "code",
      "metadata": {
        "id": "ZOsCWL83-ie-",
        "outputId": "a1c5d837-a026-48bb-ab97-7dc1406c2661",
        "colab": {
          "base_uri": "https://localhost:8080/"
        }
      },
      "source": [
        "type(x)"
      ],
      "execution_count": 102,
      "outputs": [
        {
          "output_type": "execute_result",
          "data": {
            "text/plain": [
              "int"
            ]
          },
          "metadata": {
            "tags": []
          },
          "execution_count": 102
        }
      ]
    },
    {
      "cell_type": "code",
      "metadata": {
        "id": "LCNB20Y7-ie-",
        "outputId": "42c39977-3f36-4c49-d654-258522fd707d",
        "colab": {
          "base_uri": "https://localhost:8080/"
        }
      },
      "source": [
        "x  = 10.0\n",
        "type(x)"
      ],
      "execution_count": 103,
      "outputs": [
        {
          "output_type": "execute_result",
          "data": {
            "text/plain": [
              "float"
            ]
          },
          "metadata": {
            "tags": []
          },
          "execution_count": 103
        }
      ]
    },
    {
      "cell_type": "code",
      "metadata": {
        "id": "5oR4sS9t-ie-",
        "outputId": "20e52c20-e0d1-4201-c1d9-9af3a80adeb5",
        "colab": {
          "base_uri": "https://localhost:8080/"
        }
      },
      "source": [
        "x  = 10.\n",
        "type(x)"
      ],
      "execution_count": 104,
      "outputs": [
        {
          "output_type": "execute_result",
          "data": {
            "text/plain": [
              "float"
            ]
          },
          "metadata": {
            "tags": []
          },
          "execution_count": 104
        }
      ]
    },
    {
      "cell_type": "code",
      "metadata": {
        "id": "TjufpvfZ-ie-",
        "outputId": "9aa29b1e-0503-480d-94b0-70c5600bdd54",
        "colab": {
          "base_uri": "https://localhost:8080/"
        }
      },
      "source": [
        "x = 10\n",
        "y = 3.1\n",
        "\n",
        "x + y"
      ],
      "execution_count": 105,
      "outputs": [
        {
          "output_type": "execute_result",
          "data": {
            "text/plain": [
              "13.1"
            ]
          },
          "metadata": {
            "tags": []
          },
          "execution_count": 105
        }
      ]
    },
    {
      "cell_type": "code",
      "metadata": {
        "id": "fS8AZWsb-ie-",
        "outputId": "3843bd24-0cac-4b48-8cec-5f26346cf31e",
        "colab": {
          "base_uri": "https://localhost:8080/"
        }
      },
      "source": [
        "x - y"
      ],
      "execution_count": 106,
      "outputs": [
        {
          "output_type": "execute_result",
          "data": {
            "text/plain": [
              "6.9"
            ]
          },
          "metadata": {
            "tags": []
          },
          "execution_count": 106
        }
      ]
    },
    {
      "cell_type": "code",
      "metadata": {
        "id": "8i0fSnP8-ie_",
        "outputId": "50caf07c-0f47-4ffc-fd87-47c0772ef759",
        "colab": {
          "base_uri": "https://localhost:8080/"
        }
      },
      "source": [
        "x * y"
      ],
      "execution_count": 107,
      "outputs": [
        {
          "output_type": "execute_result",
          "data": {
            "text/plain": [
              "31.0"
            ]
          },
          "metadata": {
            "tags": []
          },
          "execution_count": 107
        }
      ]
    },
    {
      "cell_type": "code",
      "metadata": {
        "id": "NWjvVrQw-ie_",
        "outputId": "9dd61c20-2656-4893-814a-73de039e47ac",
        "colab": {
          "base_uri": "https://localhost:8080/"
        }
      },
      "source": [
        "x / y"
      ],
      "execution_count": 108,
      "outputs": [
        {
          "output_type": "execute_result",
          "data": {
            "text/plain": [
              "3.225806451612903"
            ]
          },
          "metadata": {
            "tags": []
          },
          "execution_count": 108
        }
      ]
    },
    {
      "cell_type": "code",
      "metadata": {
        "id": "ewPRVrAt-ie_",
        "outputId": "6e193caf-9598-4b44-88d3-2968590f4196",
        "colab": {
          "base_uri": "https://localhost:8080/"
        }
      },
      "source": [
        "x // y"
      ],
      "execution_count": 109,
      "outputs": [
        {
          "output_type": "execute_result",
          "data": {
            "text/plain": [
              "3.0"
            ]
          },
          "metadata": {
            "tags": []
          },
          "execution_count": 109
        }
      ]
    },
    {
      "cell_type": "code",
      "metadata": {
        "id": "sCL1TrQW-ie_",
        "outputId": "b66a4d3e-461e-4f46-c95d-61880c752182",
        "colab": {
          "base_uri": "https://localhost:8080/"
        }
      },
      "source": [
        "10 // 3"
      ],
      "execution_count": 110,
      "outputs": [
        {
          "output_type": "execute_result",
          "data": {
            "text/plain": [
              "3"
            ]
          },
          "metadata": {
            "tags": []
          },
          "execution_count": 110
        }
      ]
    },
    {
      "cell_type": "code",
      "metadata": {
        "id": "mbEAXCh3-ifA",
        "outputId": "82050b5a-3221-4710-dba4-a5af128acc40",
        "colab": {
          "base_uri": "https://localhost:8080/"
        }
      },
      "source": [
        "10 // 3.1"
      ],
      "execution_count": 111,
      "outputs": [
        {
          "output_type": "execute_result",
          "data": {
            "text/plain": [
              "3.0"
            ]
          },
          "metadata": {
            "tags": []
          },
          "execution_count": 111
        }
      ]
    },
    {
      "cell_type": "code",
      "metadata": {
        "id": "vKp2svU--ifA"
      },
      "source": [
        "x  = 10\n",
        "y = 3.1"
      ],
      "execution_count": 112,
      "outputs": []
    },
    {
      "cell_type": "code",
      "metadata": {
        "id": "q2aLisdr-ifA",
        "outputId": "2de38ce1-44b8-4c5a-9b7f-f9f9a263544b",
        "colab": {
          "base_uri": "https://localhost:8080/"
        }
      },
      "source": [
        "x ** y"
      ],
      "execution_count": 113,
      "outputs": [
        {
          "output_type": "execute_result",
          "data": {
            "text/plain": [
              "1258.9254117941675"
            ]
          },
          "metadata": {
            "tags": []
          },
          "execution_count": 113
        }
      ]
    },
    {
      "cell_type": "code",
      "metadata": {
        "id": "8hV2sGJI-ifA",
        "outputId": "85debecb-a6a0-414c-b485-fa43e5a2d187",
        "colab": {
          "base_uri": "https://localhost:8080/"
        }
      },
      "source": [
        "x % y"
      ],
      "execution_count": 114,
      "outputs": [
        {
          "output_type": "execute_result",
          "data": {
            "text/plain": [
              "0.6999999999999997"
            ]
          },
          "metadata": {
            "tags": []
          },
          "execution_count": 114
        }
      ]
    },
    {
      "cell_type": "code",
      "metadata": {
        "id": "WvAWWvYs-ifA"
      },
      "source": [
        "x  = 10\n",
        "y = 10.0"
      ],
      "execution_count": 115,
      "outputs": []
    },
    {
      "cell_type": "code",
      "metadata": {
        "id": "dIgYWHJ0-ifB",
        "outputId": "18947413-c13f-4977-adce-f7120513683c",
        "colab": {
          "base_uri": "https://localhost:8080/"
        }
      },
      "source": [
        "x == y"
      ],
      "execution_count": 116,
      "outputs": [
        {
          "output_type": "execute_result",
          "data": {
            "text/plain": [
              "True"
            ]
          },
          "metadata": {
            "tags": []
          },
          "execution_count": 116
        }
      ]
    },
    {
      "cell_type": "code",
      "metadata": {
        "id": "G7H1UG7B-ifB",
        "outputId": "64038fa5-f650-45a9-bf55-39de63f56647",
        "colab": {
          "base_uri": "https://localhost:8080/"
        }
      },
      "source": [
        "0.1 + 0.2"
      ],
      "execution_count": 117,
      "outputs": [
        {
          "output_type": "execute_result",
          "data": {
            "text/plain": [
              "0.30000000000000004"
            ]
          },
          "metadata": {
            "tags": []
          },
          "execution_count": 117
        }
      ]
    },
    {
      "cell_type": "code",
      "metadata": {
        "id": "ljoshtQo-ifB",
        "outputId": "cb31ddd9-67b0-45b4-896f-85dbadec3cbf",
        "colab": {
          "base_uri": "https://localhost:8080/"
        }
      },
      "source": [
        "x  = 10\n",
        "float(x)"
      ],
      "execution_count": 118,
      "outputs": [
        {
          "output_type": "execute_result",
          "data": {
            "text/plain": [
              "10.0"
            ]
          },
          "metadata": {
            "tags": []
          },
          "execution_count": 118
        }
      ]
    },
    {
      "cell_type": "code",
      "metadata": {
        "id": "J-Ax93EG-ifB",
        "outputId": "6d4b4028-fafd-4966-bbe3-abcd5121c60f",
        "colab": {
          "base_uri": "https://localhost:8080/"
        }
      },
      "source": [
        "x"
      ],
      "execution_count": 119,
      "outputs": [
        {
          "output_type": "execute_result",
          "data": {
            "text/plain": [
              "10"
            ]
          },
          "metadata": {
            "tags": []
          },
          "execution_count": 119
        }
      ]
    },
    {
      "cell_type": "code",
      "metadata": {
        "id": "1_iS-WdU-ifB"
      },
      "source": [
        "x = float(x)"
      ],
      "execution_count": 120,
      "outputs": []
    },
    {
      "cell_type": "code",
      "metadata": {
        "id": "eJqsERch-ifC",
        "outputId": "48ee2db2-2db9-4dca-a6a9-eb5f6c244984",
        "colab": {
          "base_uri": "https://localhost:8080/"
        }
      },
      "source": [
        "x"
      ],
      "execution_count": 121,
      "outputs": [
        {
          "output_type": "execute_result",
          "data": {
            "text/plain": [
              "10.0"
            ]
          },
          "metadata": {
            "tags": []
          },
          "execution_count": 121
        }
      ]
    },
    {
      "cell_type": "code",
      "metadata": {
        "id": "IO8oz_Hu-ifC",
        "outputId": "2c947652-0dd9-480f-d791-3e0241c87411",
        "colab": {
          "base_uri": "https://localhost:8080/"
        }
      },
      "source": [
        "x = '123.456'\n",
        "float(x)"
      ],
      "execution_count": 122,
      "outputs": [
        {
          "output_type": "execute_result",
          "data": {
            "text/plain": [
              "123.456"
            ]
          },
          "metadata": {
            "tags": []
          },
          "execution_count": 122
        }
      ]
    },
    {
      "cell_type": "code",
      "metadata": {
        "id": "BjxbQeUf-ifC",
        "outputId": "1dd40f7f-44a1-45b8-9324-8cb7ac7f229d",
        "colab": {
          "base_uri": "https://localhost:8080/"
        }
      },
      "source": [
        "int(123.456)"
      ],
      "execution_count": 123,
      "outputs": [
        {
          "output_type": "execute_result",
          "data": {
            "text/plain": [
              "123"
            ]
          },
          "metadata": {
            "tags": []
          },
          "execution_count": 123
        }
      ]
    },
    {
      "cell_type": "code",
      "metadata": {
        "id": "rEEHCnMp-ifC",
        "outputId": "a72a7222-c10d-4c01-dd59-88589cd28688",
        "colab": {
          "base_uri": "https://localhost:8080/"
        }
      },
      "source": [
        "int(123.4)"
      ],
      "execution_count": 126,
      "outputs": [
        {
          "output_type": "execute_result",
          "data": {
            "text/plain": [
              "123"
            ]
          },
          "metadata": {
            "tags": []
          },
          "execution_count": 126
        }
      ]
    },
    {
      "cell_type": "code",
      "metadata": {
        "id": "95p3hxwI-ifD",
        "outputId": "c8e0150f-2180-4896-88c6-a219873ab7db",
        "colab": {
          "base_uri": "https://localhost:8080/"
        }
      },
      "source": [
        "int(float(x))"
      ],
      "execution_count": 127,
      "outputs": [
        {
          "output_type": "execute_result",
          "data": {
            "text/plain": [
              "123"
            ]
          },
          "metadata": {
            "tags": []
          },
          "execution_count": 127
        }
      ]
    },
    {
      "cell_type": "code",
      "metadata": {
        "id": "8Dd-2RzJ-ifD"
      },
      "source": [
        ""
      ],
      "execution_count": 127,
      "outputs": []
    },
    {
      "cell_type": "code",
      "metadata": {
        "id": "735I_5J8-ifD"
      },
      "source": [
        ""
      ],
      "execution_count": 127,
      "outputs": []
    },
    {
      "cell_type": "code",
      "metadata": {
        "id": "HsTEzU6U-ifF"
      },
      "source": [
        ""
      ],
      "execution_count": 127,
      "outputs": []
    }
  ]
}