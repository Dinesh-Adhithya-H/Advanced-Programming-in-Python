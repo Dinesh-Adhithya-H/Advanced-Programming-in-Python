{
  "nbformat": 4,
  "nbformat_minor": 0,
  "metadata": {
    "kernelspec": {
      "display_name": "Python 3",
      "language": "python",
      "name": "python3"
    },
    "language_info": {
      "codemirror_mode": {
        "name": "ipython",
        "version": 3
      },
      "file_extension": ".py",
      "mimetype": "text/x-python",
      "name": "python",
      "nbconvert_exporter": "python",
      "pygments_lexer": "ipython3",
      "version": "3.7.6"
    },
    "colab": {
      "name": "Author Name Disambiguation.ipynb",
      "provenance": []
    }
  },
  "cells": [
    {
      "cell_type": "code",
      "metadata": {
        "id": "1vrawP062wAw"
      },
      "source": [
        "import pandas as pd\n",
        "import json\n",
        "import re\n",
        "import sklearn\n",
        "import numpy as np\n",
        "import matplotlib.pyplot as plt"
      ],
      "execution_count": 2,
      "outputs": []
    },
    {
      "cell_type": "code",
      "metadata": {
        "colab": {
          "base_uri": "https://localhost:8080/"
        },
        "id": "cNFkQvZO2zCu",
        "outputId": "9a290224-542d-41cd-d326-3d4334e51951"
      },
      "source": [
        "!wget https://github.com/Dinesh-Adhithya-H/Advanced-Programming-in-Python/blob/main/Author%20Name%20Dissambiguation/data.json?raw=true"
      ],
      "execution_count": 3,
      "outputs": [
        {
          "output_type": "stream",
          "name": "stdout",
          "text": [
            "--2021-09-17 08:56:30--  https://github.com/Dinesh-Adhithya-H/Advanced-Programming-in-Python/blob/main/Author%20Name%20Dissambiguation/data.json?raw=true\n",
            "Resolving github.com (github.com)... 52.69.186.44\n",
            "Connecting to github.com (github.com)|52.69.186.44|:443... connected.\n",
            "HTTP request sent, awaiting response... 302 Found\n",
            "Location: https://github.com/Dinesh-Adhithya-H/Advanced-Programming-in-Python/raw/main/Author%20Name%20Dissambiguation/data.json [following]\n",
            "--2021-09-17 08:56:31--  https://github.com/Dinesh-Adhithya-H/Advanced-Programming-in-Python/raw/main/Author%20Name%20Dissambiguation/data.json\n",
            "Reusing existing connection to github.com:443.\n",
            "HTTP request sent, awaiting response... 302 Found\n",
            "Location: https://raw.githubusercontent.com/Dinesh-Adhithya-H/Advanced-Programming-in-Python/main/Author%20Name%20Dissambiguation/data.json [following]\n",
            "--2021-09-17 08:56:31--  https://raw.githubusercontent.com/Dinesh-Adhithya-H/Advanced-Programming-in-Python/main/Author%20Name%20Dissambiguation/data.json\n",
            "Resolving raw.githubusercontent.com (raw.githubusercontent.com)... 185.199.109.133, 185.199.111.133, 185.199.108.133, ...\n",
            "Connecting to raw.githubusercontent.com (raw.githubusercontent.com)|185.199.109.133|:443... connected.\n",
            "HTTP request sent, awaiting response... 200 OK\n",
            "Length: 24222133 (23M) [text/plain]\n",
            "Saving to: ‘data.json?raw=true’\n",
            "\n",
            "data.json?raw=true  100%[===================>]  23.10M   125MB/s    in 0.2s    \n",
            "\n",
            "2021-09-17 08:56:33 (125 MB/s) - ‘data.json?raw=true’ saved [24222133/24222133]\n",
            "\n"
          ]
        }
      ]
    },
    {
      "cell_type": "code",
      "metadata": {
        "id": "Owfrx1Zr2wBI"
      },
      "source": [
        "data=pd.read_json(\"data.json?raw=true\", orient = 'index')"
      ],
      "execution_count": 4,
      "outputs": []
    },
    {
      "cell_type": "code",
      "metadata": {
        "id": "naW36olE2wBP"
      },
      "source": [
        "authors=data.index[0:330:3]"
      ],
      "execution_count": 5,
      "outputs": []
    },
    {
      "cell_type": "code",
      "metadata": {
        "id": "QkGp3tUh2wBU"
      },
      "source": [
        "names=[]\n",
        "co_authors=[]\n",
        "title=[]\n",
        "jconf=[]\n",
        "organization=[]\n",
        "label=[]\n",
        "for i in range(0,len(data[0]),3):\n",
        "    names.append(re.findall(\"<FullName>(.*?)</FullName>\",data[0][i]))\n",
        "    co_authors.append(re.findall(\"<authors>(.*?)</authors>\",data[0][i]))\n",
        "    title.append(re.findall(\"<title>(.*?)</title>\",data[0][i]))\n",
        "    jconf.append(re.findall(\"<jconf>(.*?)</jconf>\",data[0][i]))\n",
        "    organization.append(re.findall(\"<organization>(.*?)</organization>\",data[0][i]))\n",
        "    label.append(re.findall(\"<label>(.*?)</label>\",data[0][i]))\n",
        "    #print(re.findall(\"<jconf>(\\w+)</jconf>\",data[0][i]),\"\\n\")"
      ],
      "execution_count": 6,
      "outputs": []
    },
    {
      "cell_type": "code",
      "metadata": {
        "colab": {
          "base_uri": "https://localhost:8080/"
        },
        "id": "vuXEKcr22wBZ",
        "outputId": "0788b583-c4b3-4207-af60-7d1e6aaebf4a"
      },
      "source": [
        "len(re.findall(\"<title>(.*?)</title>\",data[0][0]))"
      ],
      "execution_count": 7,
      "outputs": [
        {
          "output_type": "execute_result",
          "data": {
            "text/plain": [
              "36"
            ]
          },
          "metadata": {},
          "execution_count": 7
        }
      ]
    },
    {
      "cell_type": "code",
      "metadata": {
        "colab": {
          "base_uri": "https://localhost:8080/"
        },
        "id": "iQ2nfS1d2wBg",
        "outputId": "f2d34401-d658-4ce7-bc83-395be693f0c1"
      },
      "source": [
        "len(re.findall(\"<jconf>(.*?)</jconf>\",data[0][0]))"
      ],
      "execution_count": 8,
      "outputs": [
        {
          "output_type": "execute_result",
          "data": {
            "text/plain": [
              "36"
            ]
          },
          "metadata": {},
          "execution_count": 8
        }
      ]
    },
    {
      "cell_type": "code",
      "metadata": {
        "id": "Sm-By_0I2wBl"
      },
      "source": [
        "#sum(title[0]),sum(names[0]),sum(jconf[0])"
      ],
      "execution_count": 9,
      "outputs": []
    },
    {
      "cell_type": "code",
      "metadata": {
        "id": "2YFx8gQ-2wBo"
      },
      "source": [
        "def sum(x):\n",
        "    sum1=0\n",
        "    for i in x:\n",
        "        for j in i:\n",
        "            sum1+=1\n",
        "    return sum1"
      ],
      "execution_count": 10,
      "outputs": []
    },
    {
      "cell_type": "code",
      "metadata": {
        "id": "D4WivqKz2wBr"
      },
      "source": [
        "author_names=[]\n",
        "for i in range(len(names)):\n",
        "    for j in range(len(title[i])):\n",
        "        author_names.append(names[i][0])"
      ],
      "execution_count": 11,
      "outputs": []
    },
    {
      "cell_type": "code",
      "metadata": {
        "colab": {
          "base_uri": "https://localhost:8080/"
        },
        "id": "r7Yv0j5t2wBw",
        "outputId": "202b0d9c-d0a4-4d3c-cdb3-9ff9cf1bee0a"
      },
      "source": [
        "len(author_names)"
      ],
      "execution_count": 12,
      "outputs": [
        {
          "output_type": "execute_result",
          "data": {
            "text/plain": [
              "7528"
            ]
          },
          "metadata": {},
          "execution_count": 12
        }
      ]
    },
    {
      "cell_type": "code",
      "metadata": {
        "id": "O33G5l6U2wBz"
      },
      "source": [
        "from sklearn.feature_extraction.text import CountVectorizer, TfidfVectorizer,TfidfTransformer\n",
        "from sklearn.model_selection import GridSearchCV , StratifiedKFold, train_test_split \n",
        "from sklearn.pipeline import Pipeline\n",
        "from sklearn.linear_model import LogisticRegression,LinearRegression\n",
        "from sklearn.metrics import confusion_matrix,accuracy_score, precision_score, recall_score, f1_score\n",
        "from sklearn import svm\n",
        "from sklearn.svm import LinearSVC\n",
        "from sklearn.metrics import classification_report\n",
        "from sklearn.metrics import plot_confusion_matrix"
      ],
      "execution_count": 13,
      "outputs": []
    },
    {
      "cell_type": "code",
      "metadata": {
        "colab": {
          "base_uri": "https://localhost:8080/"
        },
        "id": "leQAexrf2wB4",
        "outputId": "ca6ef336-8a0b-4f62-bb2c-48fcca94d6e6"
      },
      "source": [
        "import nltk\n",
        "nltk.download('stopwords')\n",
        "from nltk.corpus import stopwords\n",
        "stop_words = set(stopwords.words('english'))"
      ],
      "execution_count": 14,
      "outputs": [
        {
          "output_type": "stream",
          "name": "stdout",
          "text": [
            "[nltk_data] Downloading package stopwords to /root/nltk_data...\n",
            "[nltk_data]   Unzipping corpora/stopwords.zip.\n"
          ]
        }
      ]
    },
    {
      "cell_type": "code",
      "metadata": {
        "id": "Ws8NG8p02wB5"
      },
      "source": [
        "from nltk.stem import PorterStemmer\n",
        "porter=PorterStemmer()"
      ],
      "execution_count": 15,
      "outputs": []
    },
    {
      "cell_type": "code",
      "metadata": {
        "id": "O0Vyl2dD2wB6"
      },
      "source": [
        "import copy"
      ],
      "execution_count": 16,
      "outputs": []
    },
    {
      "cell_type": "code",
      "metadata": {
        "id": "sZkEk07j2wB8"
      },
      "source": [
        "title_new=copy.deepcopy(title)\n",
        "for i in range(len(title)):\n",
        "    for j in range(len(title[i])):\n",
        "        line_new=\"\"\n",
        "        for word in title[i][j].split(\" \"):\n",
        "            lower_word=word.lower()\n",
        "            stem_word=porter.stem(lower_word)\n",
        "            line_new+=stem_word+\" \"\n",
        "        line_new.rstrip(\" \")\n",
        "        title_new[i][j]=line_new"
      ],
      "execution_count": 17,
      "outputs": []
    },
    {
      "cell_type": "code",
      "metadata": {
        "id": "UAfkkw1R2wB9"
      },
      "source": [
        "co_authors_new=[]\n",
        "title_new2=[]\n",
        "jconf_new=[]\n",
        "organization_new=[]\n",
        "label_new=[]"
      ],
      "execution_count": 18,
      "outputs": []
    },
    {
      "cell_type": "code",
      "metadata": {
        "colab": {
          "base_uri": "https://localhost:8080/"
        },
        "id": "a9S1fwow2wB-",
        "outputId": "540b1394-9936-476f-b480-98c9e22e4473"
      },
      "source": [
        "co_authors_new"
      ],
      "execution_count": 19,
      "outputs": [
        {
          "output_type": "execute_result",
          "data": {
            "text/plain": [
              "[]"
            ]
          },
          "metadata": {},
          "execution_count": 19
        }
      ]
    },
    {
      "cell_type": "code",
      "metadata": {
        "id": "b6JtiaC92wCA"
      },
      "source": [
        "for i in co_authors:\n",
        "    co_authors_new.extend(i)\n",
        "for i in title_new:\n",
        "    title_new2.extend(i)\n",
        "for i in jconf:\n",
        "    jconf_new.extend(i)\n",
        "for i in organization:\n",
        "    organization_new.extend(i)"
      ],
      "execution_count": 20,
      "outputs": []
    },
    {
      "cell_type": "code",
      "metadata": {
        "colab": {
          "base_uri": "https://localhost:8080/"
        },
        "id": "WuiPK8EZ2wCB",
        "outputId": "d6eb91a4-bb95-4d7d-957a-c2ab39410ee5"
      },
      "source": [
        "# Python3 implementation of above approach\n",
        "from math import floor, ceil\n",
        "\n",
        "# Function to calculate the\n",
        "# Jaro Similarity of two s\n",
        "def jaro_distance(s1, s2):\n",
        "\t\n",
        "\t# If the s are equal\n",
        "\tif (s1 == s2):\n",
        "\t\treturn 1.0\n",
        "\n",
        "\t# Length of two s\n",
        "\tlen1 = len(s1)\n",
        "\tlen2 = len(s2)\n",
        "\n",
        "\t# Maximum distance upto which matching\n",
        "\t# is allowed\n",
        "\tmax_dist = floor(max(len1, len2) / 2) - 1\n",
        "\n",
        "\t# Count of matches\n",
        "\tmatch = 0\n",
        "\n",
        "\t# Hash for matches\n",
        "\thash_s1 = [0] * len(s1)\n",
        "\thash_s2 = [0] * len(s2)\n",
        "\n",
        "\t# Traverse through the first\n",
        "\tfor i in range(len1):\n",
        "\n",
        "\t\t# Check if there is any matches\n",
        "\t\tfor j in range(max(0, i - max_dist),\n",
        "\t\t\t\t\tmin(len2, i + max_dist + 1)):\n",
        "\t\t\t\n",
        "\t\t\t# If there is a match\n",
        "\t\t\tif (s1[i] == s2[j] and hash_s2[j] == 0):\n",
        "\t\t\t\thash_s1[i] = 1\n",
        "\t\t\t\thash_s2[j] = 1\n",
        "\t\t\t\tmatch += 1\n",
        "\t\t\t\tbreak\n",
        "\n",
        "\t# If there is no match\n",
        "\tif (match == 0):\n",
        "\t\treturn 0.0\n",
        "\n",
        "\t# Number of transpositions\n",
        "\tt = 0\n",
        "\tpoint = 0\n",
        "\n",
        "\t# Count number of occurrences\n",
        "\t# where two characters match but\n",
        "\t# there is a third matched character\n",
        "\t# in between the indices\n",
        "\tfor i in range(len1):\n",
        "\t\tif (hash_s1[i]):\n",
        "\n",
        "\t\t\t# Find the next matched character\n",
        "\t\t\t# in second\n",
        "\t\t\twhile (hash_s2[point] == 0):\n",
        "\t\t\t\tpoint += 1\n",
        "\n",
        "\t\t\tif (s1[i] != s2[point]):\n",
        "\t\t\t\tpoint += 1\n",
        "\t\t\t\tt += 1\n",
        "\tt = t//2\n",
        "\n",
        "\t# Return the Jaro Similarity\n",
        "\treturn (match/ len1 + match / len2 +\n",
        "\t\t\t(match - t + 1) / match)/ 3.0\n",
        "\n",
        "# Driver code\n",
        "s1 = \"CRADKDKDKDNDJDNDJDNDJJJDDKJCNTE\"\n",
        "s2 = \"T\"\n",
        "\n",
        "# Prjaro Similarity of two s\n",
        "print(1-jaro_distance(s1, s2))\n"
      ],
      "execution_count": 21,
      "outputs": [
        {
          "output_type": "stream",
          "name": "stdout",
          "text": [
            "1.0\n"
          ]
        }
      ]
    },
    {
      "cell_type": "code",
      "metadata": {
        "id": "y8FPYFtl2wCC"
      },
      "source": [
        "def comma_tokenizer(s):\n",
        "    return s.split(',')"
      ],
      "execution_count": 22,
      "outputs": []
    },
    {
      "cell_type": "code",
      "metadata": {
        "id": "G-SXG5692wCE"
      },
      "source": [
        "vectorizer=CountVectorizer(ngram_range=(1,1),tokenizer=comma_tokenizer)\n",
        "x=vectorizer.fit_transform(title_new2)\n",
        "x=np.array(x.toarray())\n",
        "vectorizer=CountVectorizer(ngram_range=(1,1),tokenizer=comma_tokenizer)\n",
        "y=vectorizer.fit_transform(co_authors_new)\n",
        "y=np.array(y.toarray())"
      ],
      "execution_count": 23,
      "outputs": []
    },
    {
      "cell_type": "code",
      "metadata": {
        "id": "qWxbgJ7P-IGA"
      },
      "source": [
        "vectorizer=CountVectorizer(ngram_range=(1,1),tokenizer=comma_tokenizer)\n",
        "z=vectorizer.fit_transform(jconf_new)\n",
        "z=np.array(z.toarray())"
      ],
      "execution_count": 42,
      "outputs": []
    },
    {
      "cell_type": "code",
      "metadata": {
        "colab": {
          "base_uri": "https://localhost:8080/"
        },
        "id": "5ppt9iFc_EGk",
        "outputId": "fcc7c9c6-f3c6-4d9a-9f28-f1e66d21d2f0"
      },
      "source": [
        "min(vectorizer.vocabulary_.values())"
      ],
      "execution_count": 37,
      "outputs": [
        {
          "output_type": "execute_result",
          "data": {
            "text/plain": [
              "0"
            ]
          },
          "metadata": {},
          "execution_count": 37
        }
      ]
    },
    {
      "cell_type": "code",
      "metadata": {
        "colab": {
          "base_uri": "https://localhost:8080/"
        },
        "id": "mNlvhjNB_mrK",
        "outputId": "ab5511d4-cac7-4791-bbc9-62c85a8d5a4f"
      },
      "source": [
        "sum=0\n",
        "for i in jconf_new:\n",
        "  if i==\"null\":\n",
        "    sum+=1\n",
        "sum"
      ],
      "execution_count": 44,
      "outputs": [
        {
          "output_type": "execute_result",
          "data": {
            "text/plain": [
              "393"
            ]
          },
          "metadata": {},
          "execution_count": 44
        }
      ]
    },
    {
      "cell_type": "code",
      "metadata": {
        "id": "Ir66qSz8-RHF"
      },
      "source": [
        "for i in z:\n",
        "  i[vectorizer.vocabulary_[\"null\"]]=0.0"
      ],
      "execution_count": 45,
      "outputs": []
    },
    {
      "cell_type": "code",
      "metadata": {
        "colab": {
          "base_uri": "https://localhost:8080/"
        },
        "id": "GyJ5sQOT-ROB",
        "outputId": "d7ff6b58-8437-4330-c88f-a24d3ba7b72e"
      },
      "source": [
        "np.sum(z[:,vectorizer.vocabulary_[\"null\"]])"
      ],
      "execution_count": 46,
      "outputs": [
        {
          "output_type": "execute_result",
          "data": {
            "text/plain": [
              "0"
            ]
          },
          "metadata": {},
          "execution_count": 46
        }
      ]
    },
    {
      "cell_type": "code",
      "metadata": {
        "id": "7Tb1VyHH-QOP"
      },
      "source": [
        "vectorizer=CountVectorizer(ngram_range=(1,1),tokenizer=comma_tokenizer)\n",
        "k=vectorizer.fit_transform(organization_new)\n",
        "k=np.array(k.toarray())"
      ],
      "execution_count": 47,
      "outputs": []
    },
    {
      "cell_type": "code",
      "metadata": {
        "id": "jzjXQGZD_1SZ"
      },
      "source": [
        "for i in k:\n",
        "  i[vectorizer.vocabulary_[\"null\"]]=0.0"
      ],
      "execution_count": 48,
      "outputs": []
    },
    {
      "cell_type": "code",
      "metadata": {
        "colab": {
          "base_uri": "https://localhost:8080/"
        },
        "id": "HePZWA0Q2wCE",
        "outputId": "b291c382-719c-47ab-9794-b26c04e0ca12"
      },
      "source": [
        "x.shape,y.shape,z.shape,k.shape"
      ],
      "execution_count": 49,
      "outputs": [
        {
          "output_type": "execute_result",
          "data": {
            "text/plain": [
              "((7528, 7538), (7528, 9269), (7528, 2065), (7528, 3296))"
            ]
          },
          "metadata": {},
          "execution_count": 49
        }
      ]
    },
    {
      "cell_type": "code",
      "metadata": {
        "id": "gA6iKHHv2wCF"
      },
      "source": [
        "distance_matrix=np.zeros((7528,7528,5))"
      ],
      "execution_count": 50,
      "outputs": []
    },
    {
      "cell_type": "code",
      "metadata": {
        "colab": {
          "base_uri": "https://localhost:8080/"
        },
        "id": "6vVTpm1oWvls",
        "outputId": "8dcc650c-9366-4cfc-ca83-4dc55083af32"
      },
      "source": [
        "7527/2"
      ],
      "execution_count": 51,
      "outputs": [
        {
          "output_type": "execute_result",
          "data": {
            "text/plain": [
              "3763.5"
            ]
          },
          "metadata": {},
          "execution_count": 51
        }
      ]
    },
    {
      "cell_type": "code",
      "metadata": {
        "id": "YeW2e2ME2wCG"
      },
      "source": [
        "for i in range(1000):\n",
        "    for j in range(1000):\n",
        "        distance_matrix[i][j][0]= 1-jaro_distance(author_names[i],author_names[j])                              # name diff\n",
        "        distance_matrix[i][j][1]= np.sum((x[i]*x[j]))                                               #title\n",
        "        distance_matrix[i][j][2]= np.sum((y[i]*y[j]))                                                 #co-authors\n",
        "        distance_matrix[i][j][3]= np.sum((z[i]*z[j]))                                                 #jconf\n",
        "        distance_matrix[i][j][4]= np.sum((k[i]*k[j]))                                                 #organization"
      ],
      "execution_count": 52,
      "outputs": []
    },
    {
      "cell_type": "code",
      "metadata": {
        "id": "aPnUklpR2wCG"
      },
      "source": [
        "distance_matrix[0:1000,0:1000,4]=1-distance_matrix[0:1000,0:1000,4]/np.max(distance_matrix[0:1000,0:1000,4])\n",
        "distance_matrix[0:1000,0:1000,0]=distance_matrix[0:1000,0:1000,0]/np.max(distance_matrix[0:1000,0:1000,0])\n",
        "distance_matrix[0:1000,0:1000,1]=1-distance_matrix[0:1000,0:1000,1]/np.max(distance_matrix[0:1000,0:1000,1])\n",
        "distance_matrix[0:1000,0:1000,2]=1-distance_matrix[0:1000,0:1000,2]/np.max(distance_matrix[0:1000,0:1000,2])\n",
        "distance_matrix[0:1000,0:1000,3]=1-distance_matrix[0:1000,0:1000,3]/np.max(distance_matrix[0:1000,0:1000,3])"
      ],
      "execution_count": 53,
      "outputs": []
    },
    {
      "cell_type": "code",
      "metadata": {
        "id": "JTwoxArL2wCH"
      },
      "source": [
        "distance_matrix_sum=np.zeros((7528,7528))\n",
        "for i in range(1000):\n",
        "    for j in range(1000):\n",
        "      distance_matrix_sum[i][j]=np.sum(distance_matrix[i][j])"
      ],
      "execution_count": 54,
      "outputs": []
    },
    {
      "cell_type": "code",
      "metadata": {
        "colab": {
          "base_uri": "https://localhost:8080/"
        },
        "id": "jSDbXGcIkGOm",
        "outputId": "80294d01-788b-4150-da86-af11e35f14f2"
      },
      "source": [
        "\"null\" in author_names"
      ],
      "execution_count": 84,
      "outputs": [
        {
          "output_type": "execute_result",
          "data": {
            "text/plain": [
              "False"
            ]
          },
          "metadata": {},
          "execution_count": 84
        }
      ]
    },
    {
      "cell_type": "code",
      "metadata": {
        "id": "kRs-DtZg_OiW"
      },
      "source": [
        "from sklearn.cluster import AgglomerativeClustering,KMeans,SpectralClustering\n",
        "clustering = AgglomerativeClustering(n_clusters=180).fit(distance_matrix_sum[0:1000,0:1000])"
      ],
      "execution_count": 68,
      "outputs": []
    },
    {
      "cell_type": "code",
      "metadata": {
        "id": "3ial60A-DpG8"
      },
      "source": [
        "cluster_labels=clustering.labels_"
      ],
      "execution_count": 62,
      "outputs": []
    },
    {
      "cell_type": "code",
      "metadata": {
        "id": "pNG-UxKVGlhI"
      },
      "source": [
        "kmeans=KMeans().fit(distance_matrix_sum[0:1000,0:1000])"
      ],
      "execution_count": 65,
      "outputs": []
    },
    {
      "cell_type": "code",
      "metadata": {
        "colab": {
          "base_uri": "https://localhost:8080/"
        },
        "id": "gmpRL1j-Hf4_",
        "outputId": "827a23b2-ff90-4b06-9b25-517ea0428d1d"
      },
      "source": [
        "clustering = SpectralClustering(n_clusters=180,\n",
        "        assign_labels='discretize',\n",
        "        random_state=0).fit(distance_matrix_sum[0:1000,0:1000])"
      ],
      "execution_count": 72,
      "outputs": [
        {
          "output_type": "stream",
          "name": "stderr",
          "text": [
            "/usr/local/lib/python3.7/dist-packages/sklearn/cluster/_spectral.py:482: UserWarning: The spectral clustering API has changed. ``fit``now constructs an affinity matrix from data. To use a custom affinity matrix, set ``affinity=precomputed``.\n",
            "  warnings.warn(\"The spectral clustering API has changed. ``fit``\"\n"
          ]
        }
      ]
    },
    {
      "cell_type": "code",
      "metadata": {
        "colab": {
          "base_uri": "https://localhost:8080/"
        },
        "id": "lI3M_EI6Hsr4",
        "outputId": "af3a3734-6f89-4a1d-8ce7-ff34a7766fe7"
      },
      "source": [
        "print(clustering.labels_)"
      ],
      "execution_count": 74,
      "outputs": [
        {
          "output_type": "stream",
          "name": "stdout",
          "text": [
            "[125 125  64  64 125  64  64  36  36  36  64  64  64 125 125  64 125  64\n",
            " 125  64 125 125  36 125 125 125 125 125 125 125 125 125 125 125 125 125\n",
            "  58 146  45  11  11  45  11  11  45 146 146 129 129 129 129  76  76 129\n",
            " 129 146  11 168 121 121 146 162 162  58 146  45  58 121 146  11 168 146\n",
            "  45  45 168 162 121 146 168  58 121 168 146 146 162 162 121  58  58 121\n",
            " 146 146 146  47  47 153  47  47 153  47 153  47  47 153 153 153 153 153\n",
            " 153 153 153  47 153 153 153 153 153  47 153 153 153 142 179  60  66  66\n",
            "  87  87  88  88 142  17 179 142 178 147  88 142 136 136 142  31  31  31\n",
            "  82 175 147  63  63  63 110 110 110 110  74 142 142  87 144 131 131  90\n",
            "  90  24  24 164  90 142  93 131 100  55 164 164 164 139 175 175 100   9\n",
            "   9   9  97 124  38 144  40  40 147 142 142 179 142 164 142 178 142 109\n",
            " 109 142 142  82  43  43  43 124 142  48  60 147  52  52  52  73  73  73\n",
            "  73  73  93  38 147  24 120 120 120 120   3 176 142   3 142  87 136 128\n",
            " 131 144  66  55 136  29 118 118  97  82  55 178   2  93  97 103 103 103\n",
            " 103 103  48 142  74 144  43  17  74 122 103 142 142 147 139 139 144 156\n",
            " 139 124  73  90  88 142 178 122 142 124 122  38  70  97  55 128 100 144\n",
            " 109 176 176  48  21  21  48 156  40 156  29  70  93 142 150 150   1 150\n",
            " 116 116  96  96  96 116 116  96  96  96  10   1 116 150 150 150  10  25\n",
            " 150  30  69 150 150  85  85  85 127  30   1 114 161 161  69 127 127  25\n",
            "  25 150  69 114 114  25 114  46  46 114  10 150   1 150   1   1  46  10\n",
            "  69 150 150 150  30  30 104 104 104  72  20  20  20  20  54  54  54  54\n",
            "  54  54  54  10 127 150  25 150  10   1  10 127 150 150  46   1 150  72\n",
            "  72  72  72 150 161 150  69 127 150 150  69 133   4   4 112 167 112  33\n",
            " 112  65  65  65  65 167  65  33  33 112 112 112 133 133 112 112 112 112\n",
            " 112  80  80 112 167 167 112 167  65 112   4  80 112 112 112   4  65 167\n",
            " 167 112 112 158  12 138 138  12 113 113 113 165 165 165 113 113 143 143\n",
            " 108 108 108 108 108 108  22 119  68  81 102  68  42 143 143 163  42 163\n",
            "   7 119 170 119 177 119 177 177 177 177 177  81  81  86 119  39 143 143\n",
            "  32  32 143 102  32  32 145  22  22  19 134  19  56 134  56  56  56  56\n",
            "  56  56 134  19 134  56  56  56  19  19  19  53 145 143  39 102 130 130\n",
            " 130 149 149 149 160 160 149 155 155 155  86 143  99  99  99  99  41 130\n",
            "  49  49  49 163  91  91  91 130  91  91  49  86 155 155 143 134 101 101\n",
            " 101  59  59  59  98  98 102  12  68 102 173 173  53  68 143  14  28  28\n",
            "  28  28 143 143 137 137 137 137  75 143 158  19 163  75 158 108 134 143\n",
            "  32 101 143  75  75 143 143 143  86  86  86  86   5 158 143  75  41  75\n",
            " 155 143  86   7  75  37  37  37  37  23  23  84 106  23  23   6  92 151\n",
            " 169 111  84 111  84 111 151 111 135 111 117 117 111 135 111  13  13  37\n",
            " 111  84  57  57  57  57 111 111 111  62  62  62 106 106 117  35 111 111\n",
            "  35 169  37 135 123 123  89   6 111 111  35  35  35 111   6  84 106 111\n",
            "  51  51  27  27  27  27 111  62 111 166 166 111   6 135  89 151  44 111\n",
            "  62 151  35  35  37 151 151  89  44 111  77 111  23  67 111 111  92 111\n",
            " 111 135  67  92  92  77 111 169 169  37 111 123 169  89 111 169  89  92\n",
            "  92 111  44 172 172 172 172 172 172 172 172 172 172 172   0   0   0   0\n",
            "   0   0   0 141  78 141 141  78  78  50 141 141 141  94  94  94  94  94\n",
            "  94  94 141  50  50  50 141  16  16  50  16 141  95  95 140  95 140  95\n",
            " 152  26  95  15  26  15 152  95  15  95  95 140  15  15  15 140 152  15\n",
            "  15  15 152  71  71  71  71  15 140  15 152  26  15 152 152  15  15 152\n",
            "  15 174 157 132 132 148 157 157 148 157 157  79 132 132 132 132 148 148\n",
            " 148   8 157 157 148 157 157 174 157 157 107 107 107 107 107 107  79 157\n",
            " 157 157 132 132 132 132 157 157  18  18 148 157 157 132 132 157 148 132\n",
            " 157   8  79 157 157 157 157 157  61  61  34 171 171 126  34  34 171 171\n",
            "  34 171 126  61  61 126 171 126 126 126 154 154 154 126 105 105 105 105\n",
            " 105  61 115 105  34 115  61 171 126  34 154 115 171 154 115 115 115  61\n",
            "  61  61  34  34  34 126 126 126 115 126 171  34 115 115 171  34  34  34\n",
            "  34 159 159 159 159 159 159 159 159 159 159 159 159 159 159 159 159 159\n",
            " 159  83  83  83  83  83  83  83  83  83]\n"
          ]
        }
      ]
    },
    {
      "cell_type": "code",
      "metadata": {
        "id": "huw9XqhLGt1H"
      },
      "source": [
        "cluster_labels2=kmeans.labels_"
      ],
      "execution_count": 66,
      "outputs": []
    },
    {
      "cell_type": "code",
      "metadata": {
        "colab": {
          "base_uri": "https://localhost:8080/"
        },
        "id": "GbWidkiHiMJG",
        "outputId": "3a635c23-bf6d-4607-82ef-96150ee93800"
      },
      "source": [
        "print(label[0])\n",
        "print(cluster_labels[:36])"
      ],
      "execution_count": 63,
      "outputs": [
        {
          "output_type": "stream",
          "name": "stdout",
          "text": [
            "['0', '0', '2', '2', '0', '2', '2', '4', '4', '4', '2', '2', '2', '0', '7', '2', '0', '2', '0', '2', '3', '4', '4', '0', '4', '2', '0', '5', '2', '6', '8', '3', '4', '7', '7', '1']\n",
            "[154 154  26  26 154  26  26 110 110 110 151 151 151 154 154  26 154  26\n",
            " 154  26 154 154 154 154 154 104 154 154  26 154 154 154 154 154 154 154]\n"
          ]
        }
      ]
    },
    {
      "cell_type": "code",
      "metadata": {
        "colab": {
          "base_uri": "https://localhost:8080/"
        },
        "id": "gzUQCzZQGyPF",
        "outputId": "7b83aaab-abf7-4bb8-e624-d20513012157"
      },
      "source": [
        "print(cluster_labels2)"
      ],
      "execution_count": 67,
      "outputs": [
        {
          "output_type": "stream",
          "name": "stdout",
          "text": [
            "[0 0 0 0 0 0 0 0 0 0 0 0 0 0 0 0 0 0 0 0 0 0 0 0 0 0 0 0 0 0 0 0 0 0 0 0 0\n",
            " 0 0 0 0 0 0 0 0 0 0 0 0 0 0 0 0 0 0 0 0 0 0 0 0 0 0 0 0 0 0 0 0 0 0 0 0 0\n",
            " 0 0 0 0 0 0 0 0 0 0 0 0 0 0 0 0 0 0 0 6 6 6 6 6 6 6 6 6 6 6 6 6 6 6 6 6 6\n",
            " 6 6 6 6 6 6 6 6 6 6 5 5 5 5 5 5 5 5 5 5 5 5 5 5 5 5 5 5 5 5 5 5 5 5 5 5 5\n",
            " 5 5 5 5 5 5 5 5 5 5 5 5 5 5 5 5 5 5 5 5 5 5 5 5 5 5 5 5 5 5 5 5 5 5 5 5 5\n",
            " 5 5 5 5 5 5 5 5 5 5 5 5 5 5 5 5 5 5 5 5 5 5 5 5 5 5 5 5 5 5 5 5 5 5 5 5 5\n",
            " 5 5 5 5 5 5 5 5 5 5 5 5 5 5 5 5 5 5 5 5 5 5 5 5 5 5 5 5 5 5 5 5 5 5 5 5 5\n",
            " 5 5 5 5 5 5 5 5 5 5 5 5 5 5 5 5 5 5 5 5 5 5 5 5 5 5 5 5 5 5 5 5 5 5 5 5 5\n",
            " 5 5 5 5 5 5 4 4 4 4 4 4 4 4 4 4 4 4 4 4 4 4 4 4 4 4 4 4 4 4 4 4 4 4 4 4 4\n",
            " 4 4 4 4 4 4 4 4 4 4 4 4 4 4 4 4 4 4 4 4 4 4 4 4 4 4 4 4 4 4 4 4 4 4 4 4 4\n",
            " 4 4 4 4 4 4 4 4 4 4 4 4 4 4 4 4 4 4 4 4 4 4 4 4 4 4 4 4 4 4 4 4 4 4 4 4 4\n",
            " 4 4 4 4 4 4 4 4 4 4 4 4 4 4 4 4 4 4 4 4 4 4 4 4 4 4 4 4 4 4 4 4 4 4 4 4 4\n",
            " 4 4 4 4 4 4 4 4 4 1 1 1 1 1 1 1 1 1 1 1 1 1 1 1 1 1 1 1 1 1 1 1 1 1 1 1 1\n",
            " 1 1 1 1 1 1 1 1 1 1 1 1 1 1 1 1 1 1 1 1 1 1 1 1 1 1 1 1 1 1 1 1 1 1 1 1 1\n",
            " 1 1 1 1 1 1 1 1 1 1 1 1 1 1 1 1 1 1 1 1 1 1 1 1 1 1 1 1 1 1 1 1 1 1 1 1 1\n",
            " 1 1 1 1 1 1 1 1 1 1 1 1 1 1 1 1 1 1 1 1 1 1 1 1 1 1 1 1 1 1 1 1 1 1 1 1 1\n",
            " 1 1 1 1 1 1 1 1 1 1 1 1 1 1 1 1 1 1 1 1 1 1 1 1 1 1 1 1 1 1 1 1 1 1 1 1 1\n",
            " 1 1 1 1 1 1 2 2 2 2 2 2 2 2 2 2 2 2 2 2 2 2 2 2 2 2 2 2 2 2 2 2 2 2 2 2 2\n",
            " 2 2 2 2 2 2 2 2 2 2 2 2 2 2 2 2 2 2 2 2 2 2 2 2 2 2 2 2 2 2 2 2 2 2 2 2 2\n",
            " 2 2 2 2 2 2 2 2 2 2 2 2 2 2 2 2 2 2 2 2 2 2 2 2 2 2 2 2 2 2 2 2 2 2 2 2 2\n",
            " 2 2 2 2 2 2 2 2 2 2 2 2 2 2 2 2 2 2 2 0 0 0 0 0 0 0 0 0 0 0 0 0 0 0 0 0 0\n",
            " 0 0 0 0 0 0 0 0 0 0 0 0 0 0 0 0 0 0 0 0 0 0 0 0 0 0 0 7 7 7 7 7 7 7 7 7 7\n",
            " 7 7 7 7 7 7 7 7 7 7 7 7 7 7 7 7 7 7 7 7 7 7 7 7 7 7 7 7 7 7 7 7 7 6 6 6 6\n",
            " 6 6 6 6 6 6 6 6 6 6 6 6 6 6 6 6 6 6 6 6 6 6 6 6 6 6 6 6 6 6 6 6 6 6 6 6 6\n",
            " 6 6 6 6 6 6 6 6 6 6 6 6 6 6 6 6 6 6 6 6 3 3 3 3 3 3 3 3 3 3 3 3 3 3 3 3 3\n",
            " 3 3 3 3 3 3 3 3 3 3 3 3 3 3 3 3 3 3 3 3 3 3 3 3 3 3 3 3 3 3 3 3 3 3 3 3 3\n",
            " 3 3 3 3 3 3 3 3 3 3 3 6 6 6 6 6 6 6 6 6 6 6 6 6 6 6 6 6 6 6 6 6 6 6 6 6 6\n",
            " 6]\n"
          ]
        }
      ]
    },
    {
      "cell_type": "code",
      "metadata": {
        "id": "F44w3_5JDzXG"
      },
      "source": [
        "sum=0\n",
        "clu=0\n",
        "for i in label:\n",
        "  sum+=len(i)\n",
        "  clu+=len(set(i))\n",
        "  if sum>=1000:\n",
        "    break"
      ],
      "execution_count": 42,
      "outputs": []
    },
    {
      "cell_type": "code",
      "metadata": {
        "id": "xYiuABm_D4RQ",
        "colab": {
          "base_uri": "https://localhost:8080/"
        },
        "outputId": "bcf96825-265d-48fb-ddda-dcd55722246e"
      },
      "source": [
        "sum,clu"
      ],
      "execution_count": 43,
      "outputs": [
        {
          "output_type": "execute_result",
          "data": {
            "text/plain": [
              "(1222, 227)"
            ]
          },
          "metadata": {},
          "execution_count": 43
        }
      ]
    },
    {
      "cell_type": "code",
      "metadata": {
        "id": "q4YpbzAvhriX"
      },
      "source": [
        ""
      ],
      "execution_count": null,
      "outputs": []
    }
  ]
}